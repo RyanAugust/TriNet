{
 "cells": [
  {
   "cell_type": "code",
   "execution_count": null,
   "metadata": {},
   "outputs": [],
   "source": [
    "import os\n",
    "import json\n",
    "import pandas as pd\n",
    "import numpy as np\n",
    "import datetime"
   ]
  },
  {
   "cell_type": "code",
   "execution_count": null,
   "metadata": {},
   "outputs": [],
   "source": [
    "sample_open_data_ath = \"E:\\gc_opendata\\9787e81f-19f6-4cc1-891d-63e68b4d2f9f\""
   ]
  },
  {
   "cell_type": "code",
   "execution_count": null,
   "metadata": {},
   "outputs": [],
   "source": [
    "class athlete(object):\n",
    "    def __init__(self, root_dir):\n",
    "        self.root_dir = root_dir\n",
    "        summary_filename = '{%s}.json' % (root_dir.split('/')[-1].split('\\\\')[-1])\n",
    "        self.athlete_summary_file = os.path.join(root_dir,summary_filename)\n",
    "\n",
    "        self.athlete_files = next(os.walk(root_dir), (None, None, []))[2]\n",
    "        [self.athlete_files.remove(file) if '.csv' not in file else None for file in self.athlete_files]\n",
    "        self.athlete_activity_filepaths = [os.path.join(root_dir,filepath) for filepath in self.athlete_files]\n",
    "    \n",
    "    @staticmethod\n",
    "    def calc_xspeed(x, secs_id, dist_id, elev_id):\n",
    "        xspeed = (\n",
    "            1+9*(                                  # slope adj\n",
    "                (x[elev_id,1:] - x[elev_id,:-1]) / # delta alt\n",
    "                (x[dist_id,1:] - x[dist_id,:-1])   # delta dist\n",
    "            )\n",
    "        ) * (\n",
    "                (x[dist_id,1:] - x[dist_id,:-1]) / # delta dist\n",
    "                (x[secs_id,1:] - x[secs_id,:-1])   # delta secs\n",
    "                * (60*60)                          # convert to kph\n",
    "            )                                      # slope running speed\n",
    "        return xspeed\n",
    "    \n",
    "    def get_activity_metadata(self, return_metadata=False):\n",
    "        self.activity_metadata = []\n",
    "        with open(os.path.join(sample_open_data_ath,'{9787e81f-19f6-4cc1-891d-63e68b4d2f9f}.json'),'r') as f:\n",
    "            ath_over = f.read()\n",
    "        f.close()\n",
    "        ath_over = json.loads(ath_over)\n",
    "        for activity in ath_over['RIDES']:\n",
    "            date_obj = datetime.datetime.strptime(activity['date'], '%Y/%m/%d %H:%M:%S %Z')\n",
    "            act_metadata = {'sport':activity['sport']\n",
    "                            ,'datetime':date_obj}\n",
    "            try:\n",
    "                act_metadata.update({'cp_setting':float(activity['METRICS']['cp_setting'])})\n",
    "            except:\n",
    "                act_metadata.update({'cp_setting':0})\n",
    "            self.activity_metadata.append(act_metadata)\n",
    "        if return_metadata:\n",
    "            return self.activity_metadata\n",
    "        else:\n",
    "            return \"Metadata processed\"\n",
    "\n",
    "    def extract_activity(self, activity_filepath, metrics=['secs','km','hr','power','alt'], make_xspeed=False):\n",
    "        if make_xspeed and 'alt' not in metrics:\n",
    "            metrics.append('alt')\n",
    "        \n",
    "        assert activity_filepath in self.athlete_activity_filepaths, \"activity unavalable in dir\"\n",
    "        df = pd.read_csv(activity_filepath, engine='pyarrow')\n",
    "        activity_array = df[metrics].to_numpy().T\n",
    "        if make_xspeed:\n",
    "            try:\n",
    "                xspeed = self.calc_xspeed(activity_array, metrics.index('secs'), metrics.index('km'), metrics.index('alt'))\n",
    "                xspeed = np.concatenate((np.array([0]),xspeed))\n",
    "            except:\n",
    "                xspeed = np.zeros(shape=activity_array.shape[1])\n",
    "            activity_array = np.concatenate((activity_array,[xspeed]), axis=0)\n",
    "        return activity_array"
   ]
  },
  {
   "cell_type": "code",
   "execution_count": null,
   "metadata": {},
   "outputs": [],
   "source": [
    "ath0 = athlete(root_dir=sample_open_data_ath)\n",
    "ath0.get_activity_metadata()\n"
   ]
  },
  {
   "cell_type": "code",
   "execution_count": null,
   "metadata": {},
   "outputs": [],
   "source": [
    "max_array = 0\n",
    "dim_array = 0\n",
    "all_activity_arrays = []\n",
    "for activity_filepath in ath0.athlete_activity_filepaths:\n",
    "    activity_array = ath0.extract_activity(activity_filepath=activity_filepath, make_xspeed=True)\n",
    "    if activity_array.shape[1] > max_array:\n",
    "        max_array = activity_array.shape[1]\n",
    "    if activity_array.shape[0] > dim_array:\n",
    "        dim_array = activity_array.shape[0]\n",
    "    activity_datetime_str = activity_filepath.split('\\\\')[-1]\n",
    "    activity_datetime = datetime.datetime.strptime(activity_datetime_str, '%Y_%m_%d_%H_%M_%S.csv')\n",
    "    all_activity_arrays.append({'activity_dt':activity_datetime,'data_array':activity_array})"
   ]
  },
  {
   "cell_type": "code",
   "execution_count": null,
   "metadata": {},
   "outputs": [],
   "source": [
    "for activ_array in all_activity_arrays:\n",
    "    activ_array"
   ]
  },
  {
   "cell_type": "code",
   "execution_count": null,
   "metadata": {},
   "outputs": [],
   "source": [
    "import torch\n",
    "import torch.nn as nn"
   ]
  },
  {
   "cell_type": "code",
   "execution_count": null,
   "metadata": {},
   "outputs": [],
   "source": [
    "class Net(nn.Module):\n",
    "    def __init__(self, input_dim, hidden_dim, layer_dim, output_dim):\n",
    "        super().__init__()\n",
    "        self.input = nn.Linear(in_features=input_dim, out_features=hidden_dim)\n",
    "        self.hidden_1 = nn.Linear(in_features=hidden_dim, out_features=hidden_dim)\n",
    "        self.output = nn.Linear(in_features=16, out_features=output_dim)\n",
    "        \n",
    "    def forward(self, x):\n",
    "        x = F.relu(self.input(x))\n",
    "        x = F.relu(self.hidden_1(x))\n",
    "        return self.output(x)\n",
    "    \n",
    "    \n",
    "model = Net()\n",
    "print(model)"
   ]
  },
  {
   "cell_type": "code",
   "execution_count": null,
   "metadata": {},
   "outputs": [],
   "source": [
    "num_epochs = 200\n",
    "train_accuracies, test_accuracies = [], []\n",
    "\n",
    "loss_function = nn.CrossEntropyLoss()\n",
    "optimizer = torch.optim.Adam(params=model.parameters(), lr=0.01)\n",
    "\n",
    "for epoch in range(num_epochs):\n",
    "    # Train set\n",
    "    for X, y in train_loader:\n",
    "        preds = model(X)\n",
    "        pred_labels = torch.argmax(preds, axis=1)\n",
    "        loss = loss_function(preds, y)\n",
    "        optimizer.zero_grad()\n",
    "        loss.backward()\n",
    "        optimizer.step()\n",
    "    train_accuracies.append(\n",
    "        100 * torch.mean((pred_labels == y).float()).item()\n",
    "    )\n",
    "    \n",
    "    # Test set\n",
    "    X, y = next(iter(test_loader))\n",
    "    pred_labels = torch.argmax(model(X), axis=1)\n",
    "    test_accuracies.append(\n",
    "        100 * torch.mean((pred_labels == y).float()).item()\n",
    "    )"
   ]
  },
  {
   "cell_type": "code",
   "execution_count": null,
   "metadata": {},
   "outputs": [],
   "source": []
  }
 ],
 "metadata": {
  "kernelspec": {
   "display_name": "analysis_310",
   "language": "python",
   "name": "python3"
  },
  "language_info": {
   "codemirror_mode": {
    "name": "ipython",
    "version": 3
   },
   "file_extension": ".py",
   "mimetype": "text/x-python",
   "name": "python",
   "nbconvert_exporter": "python",
   "pygments_lexer": "ipython3",
   "version": "3.10.4 | packaged by conda-forge | (main, Mar 30 2022, 08:38:02) [MSC v.1916 64 bit (AMD64)]"
  },
  "vscode": {
   "interpreter": {
    "hash": "450c6c939a91a13d43daedb0706b943ba15a63d2bd7aa1f53ffd849b7045dd1a"
   }
  }
 },
 "nbformat": 4,
 "nbformat_minor": 2
}
