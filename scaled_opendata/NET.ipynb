{
 "cells": [
  {
   "cell_type": "code",
   "execution_count": null,
   "id": "4fc7d2b9",
   "metadata": {},
   "outputs": [],
   "source": [
    "import os\n",
    "import pandas as pd\n",
    "import numpy as np\n",
    "import json\n",
    "\n",
    "import torch\n",
    "import torch.nn as nn\n",
    "import torch.nn.functional as F\n",
    "import torch.optim as optim\n",
    "\n",
    "%load_ext autoreload\n",
    "%autoreload explicit\n",
    "\n",
    "%aimport opendata_connect"
   ]
  },
  {
   "cell_type": "markdown",
   "id": "57f92abf",
   "metadata": {},
   "source": [
    "# Retrieve data\n",
    "___\n",
    "Sourced from Golden Cheetah Open Data Project"
   ]
  },
  {
   "cell_type": "code",
   "execution_count": null,
   "id": "55cf4a84",
   "metadata": {},
   "outputs": [],
   "source": [
    "try:\n",
    "    if 'apple' in os.environ['BUILD']:\n",
    "        root_dir = '../gc_opendata-samples'\n",
    "    else:\n",
    "        root_dir = 'E:\\gc_opendata'\n",
    "except:\n",
    "    root_dir = 'E:\\gc_opendata'"
   ]
  },
  {
   "cell_type": "code",
   "execution_count": null,
   "id": "f97b7918",
   "metadata": {},
   "outputs": [],
   "source": [
    "od = opendata_connect.open_dataset(root_dir)\n",
    "ov = od.get_athlete_summary(od.athlete_ids[2])\n",
    "ov.columns = [col.replace('METRICS.','') for col in ov.columns]\n",
    "l = ov[ov['sport'] == 'Bike']"
   ]
  },
  {
   "cell_type": "code",
   "execution_count": null,
   "id": "231cd9e3",
   "metadata": {},
   "outputs": [],
   "source": [
    "l[['60m_critical_power'\n",
    ",'20m_critical_power']].rolling(window=7,min_periods=1).max().plot(figsize=(10,2))"
   ]
  },
  {
   "cell_type": "markdown",
   "id": "ef63ee8d",
   "metadata": {},
   "source": [
    "# Sample Explore"
   ]
  },
  {
   "cell_type": "code",
   "execution_count": null,
   "id": "80d43577",
   "metadata": {},
   "outputs": [],
   "source": [
    "target_id = \"7567ac31-d479-4b25-9538-541ae8085288\"\n",
    "act_samp = activ_sum[activ_sum['id'] == target_id].copy()\n",
    "act_samp.columns.tolist()"
   ]
  },
  {
   "cell_type": "code",
   "execution_count": null,
   "id": "282df8b0",
   "metadata": {},
   "outputs": [],
   "source": [
    "act_samp['athlete_weight'] = act_samp['20m_critical_power']/act_samp['20m_peak_wpk']\n",
    "act_samp['athlete_weight'] = act_samp['athlete_weight'].ffill().bfill()\n",
    "act_samp.set_index('date',inplace=True)\n",
    "act_samp[act_samp['sport'] == 'Bike']['20m_critical_power'].rolling(window=90, min_periods=1).max().plot();\n",
    "act_samp.plot(kind='scatter',x='workout_time',y='average_hr')"
   ]
  },
  {
   "cell_type": "code",
   "execution_count": null,
   "id": "cba5beeb",
   "metadata": {},
   "outputs": [],
   "source": [
    "def calc_vo2(row, max_hr, resting_hr):\n",
    "    if row['sport'] == 'Bike':\n",
    "        percent_vo2 = (row['average_hr'] - resting_hr)/(max_hr - resting_hr)\n",
    "        vo2_estimated = (((row['average_power']/75)*1000)/row['athlete_weight']) / percent_vo2\n",
    "        # vo2_estimated = row['VO2max_Detected'] ## overide with Garmin VO2 Estimation\n",
    "    elif row['sport'] == 'Run':\n",
    "        percent_vo2 = (row['average_hr'] - resting_hr)/(max_hr - resting_hr)\n",
    "        vo2_estimated = (210/row['average_speed']) / percent_vo2\n",
    "    else:\n",
    "        vo2_estimated =  0\n",
    "    return vo2_estimated\n",
    "act_samp['VO2'] = act_samp.apply(lambda row: calc_vo2(row, 179, 45), axis=1)"
   ]
  },
  {
   "cell_type": "markdown",
   "id": "c45b462c",
   "metadata": {},
   "source": [
    "# Modeling"
   ]
  },
  {
   "cell_type": "code",
   "execution_count": null,
   "id": "7722f9ee",
   "metadata": {},
   "outputs": [],
   "source": [
    "import torch\n",
    "import torch.nn as nn\n",
    "import torch.nn.functional as F\n",
    "\n",
    "import numpy as np\n",
    "import matplotlib.pyplot as plt"
   ]
  },
  {
   "cell_type": "code",
   "execution_count": null,
   "id": "866a5b67",
   "metadata": {},
   "outputs": [],
   "source": [
    "class TimeSeriesCNN(nn.Module):\n",
    "    def __init__(self):\n",
    "        super(TimeSeriesCNN, self).__init__()\n",
    "        \n",
    "        # Define the layers of the CNN\n",
    "        self.conv1 = nn.Conv1d(in_channels=8, out_channels=32, kernel_size=3)\n",
    "        self.pool = nn.MaxPool1d(kernel_size=2)\n",
    "        self.conv2 = nn.Conv1d(in_channels=32, out_channels=64, kernel_size=3)\n",
    "        self.fc1 = nn.Linear(in_features=64*8, out_features=128)\n",
    "        self.fc2 = nn.Linear(in_features=128, out_features=2)\n",
    "\n",
    "    def forward(self, x):\n",
    "        # Pass the input through the layers of the CNN\n",
    "        x = self.conv1(x)\n",
    "        x = nn.functional.relu(x)\n",
    "        x = self.pool(x)\n",
    "        x = self.conv2(x)\n",
    "        x = nn.functional.relu(x)\n",
    "        x = self.pool(x)\n",
    "        x = x.view(-1, 64*8)\n",
    "        x = self.fc1(x)\n",
    "        x = nn.functional.relu(x)\n",
    "        x = self.fc2(x)\n",
    "        return x"
   ]
  },
  {
   "cell_type": "code",
   "execution_count": null,
   "id": "eabc8bf5",
   "metadata": {},
   "outputs": [],
   "source": [
    "l"
   ]
  },
  {
   "cell_type": "code",
   "execution_count": null,
   "id": "eeac9d36",
   "metadata": {},
   "outputs": [],
   "source": [
    "input_data = fl_df[['TIZ1_3','TIZ2_3','TIZ3_3','VO2_l1']].to_numpy()[:-1]\n",
    "target_data = fl_df['VO2'][:-1].to_numpy()"
   ]
  },
  {
   "cell_type": "code",
   "execution_count": null,
   "id": "ffac8c8f",
   "metadata": {},
   "outputs": [],
   "source": [
    "test_percent = 0.8\n",
    "test_split = int(input_data.shape[0] * test_percent)\n",
    "train_input_data, train_target_data = input_data[:test_split], target_data[:test_split]\n",
    "test_input_data, test_target_data = input_data[test_split:], target_data[test_split:]"
   ]
  },
  {
   "cell_type": "code",
   "execution_count": null,
   "id": "d92b764c",
   "metadata": {},
   "outputs": [],
   "source": []
  },
  {
   "cell_type": "code",
   "execution_count": null,
   "id": "bd383b9a",
   "metadata": {},
   "outputs": [],
   "source": [
    "model = TimeSeriesCNN()\n",
    "\n",
    "criterion = nn.MSELoss()\n",
    "optimizer = torch.optim.Adam(model.parameters(), lr=0.001)\n",
    "\n",
    "# Train the model\n",
    "num_epochs = 100\n",
    "for epoch in range(num_epochs):\n",
    "    model.train()\n",
    "    optimizer.zero_grad()\n",
    "    inputs = torch.from_numpy(train_input_data[:32].T).float()\n",
    "    targets = torch.from_numpy(train_target_data).float()\n",
    "    outputs = model(inputs)\n",
    "    loss = criterion(outputs, targets)\n",
    "    loss.backward()\n",
    "    optimizer.step()\n",
    "\n",
    "    # Evaluate the model on the test set\n",
    "    if epoch % 10 == 0:\n",
    "        model.eval()\n",
    "        with torch.no_grad():\n",
    "            inputs = torch.from_numpy(test_data).float()\n",
    "            targets = torch.from_numpy(test_labels).float()\n",
    "            outputs = model(inputs)\n",
    "            test_loss = criterion(outputs, targets)\n",
    "            print(f\"Epoch {epoch}: Test loss = {test_loss.item()}\")"
   ]
  },
  {
   "cell_type": "code",
   "execution_count": null,
   "id": "04fcf6d1",
   "metadata": {},
   "outputs": [],
   "source": []
  },
  {
   "cell_type": "code",
   "execution_count": null,
   "id": "7fce3af5",
   "metadata": {},
   "outputs": [],
   "source": [
    "# Generic NN\n",
    "class NN(nn.Module):\n",
    "    def __init__(self):\n",
    "        super().__init__()\n",
    "        self.fc1 = nn.Linear(2, 2)\n",
    "        self.fc2 = nn.Linear(2, 2)\n",
    "        self.fc3 = nn.Linear(2, 1)\n",
    "         \n",
    "    def forward(self, x):\n",
    "        x = F.relu(self.fc1(x))\n",
    "        x = F.relu(self.fc2(x))\n",
    "        x = self.fc3(x)\n",
    "        \n",
    "        return F.log_softmax(x, dim=1)\n",
    "    \n",
    "net = NN()\n",
    "print(net)"
   ]
  },
  {
   "cell_type": "code",
   "execution_count": null,
   "id": "a0b030e9",
   "metadata": {},
   "outputs": [],
   "source": []
  }
 ],
 "metadata": {
  "kernelspec": {
   "display_name": "Python 3 (ipykernel)",
   "language": "python",
   "name": "python3"
  },
  "language_info": {
   "codemirror_mode": {
    "name": "ipython",
    "version": 3
   },
   "file_extension": ".py",
   "mimetype": "text/x-python",
   "name": "python",
   "nbconvert_exporter": "python",
   "pygments_lexer": "ipython3",
   "version": "3.10.4"
  }
 },
 "nbformat": 4,
 "nbformat_minor": 5
}
