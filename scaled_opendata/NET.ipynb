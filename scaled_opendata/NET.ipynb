{
 "cells": [
  {
   "cell_type": "code",
   "execution_count": null,
   "id": "4fc7d2b9",
   "metadata": {},
   "outputs": [],
   "source": [
    "import torch\n",
    "import torch.nn as nn\n",
    "import torch.nn.functional as F\n",
    "\n",
    "import torch.optim as optim"
   ]
  },
  {
   "cell_type": "code",
   "execution_count": 1,
   "id": "8ca96755",
   "metadata": {},
   "outputs": [],
   "source": [
    "import os\n",
    "import pandas as pd\n",
    "import json"
   ]
  },
  {
   "cell_type": "markdown",
   "id": "57f92abf",
   "metadata": {},
   "source": [
    "# Retrieve data\n",
    "___\n",
    "Sourced from Golden Cheetah Open Data Project"
   ]
  },
  {
   "cell_type": "code",
   "execution_count": 78,
   "id": "55cf4a84",
   "metadata": {},
   "outputs": [],
   "source": [
    "if 'apple' in os.environ['BUILD']:\n",
    "    root_dir = '../gc_opendata-samples'\n",
    "else:\n",
    "    root_dir = 'E:\\gc_opendata'"
   ]
  },
  {
   "cell_type": "code",
   "execution_count": 167,
   "id": "9efd7f55",
   "metadata": {},
   "outputs": [],
   "source": [
    "class open_dataset(object):\n",
    "    def __init__(self, root_dir):\n",
    "        self.root_dir = root_dir\n",
    "        self.athlete_ids = self.get_athlete_ids()\n",
    "    def get_athlete_ids(self):\n",
    "        for a,b,c in os.walk(self.root_dir):\n",
    "            athletes = b\n",
    "            athletes.remove('INDEX') if 'INDEX' in athletes else 0\n",
    "            break\n",
    "        return athletes\n",
    "\n",
    "    def get_athlete_summary(self, athlete_id, make_float = True):\n",
    "        ath_summary_path = self._athlete_summary_path(athlete_id=athlete_id)\n",
    "        with open(ath_summary_path, 'r') as f:\n",
    "            summary_json = f.read()\n",
    "        f.close()\n",
    "        rides = json.loads(summary_json)['RIDES']\n",
    "        # ride_dict = summary_json['RIDES']\n",
    "        df = pd.json_normalize(rides)\n",
    "        if make_float:\n",
    "            for col in df.columns.tolist():\n",
    "                if 'METRIC' in col:\n",
    "                    if type(df[col].dropna().values[0]) == str:\n",
    "                        df[col] = self._safe_convert(original_series=df[col], type_convert=float)\n",
    "                    elif type(df[col].dropna().values[0]) == list:\n",
    "                        try:\n",
    "                            print(col)\n",
    "                            df[col] = df[col].fillna('00')\n",
    "                            df = pd.concat([df, self._safe_list_decompression(original_series=df[col], type_convert=float)], axis=1)\n",
    "                            del df[col]\n",
    "                        except:\n",
    "                            print('--fail')\n",
    "                    else:\n",
    "                        None\n",
    "        return df\n",
    "    \n",
    "    def get_athlete_activity_files(self, athlete_id: str) -> list:\n",
    "        athlete_dir = self._athlete_dir(athlete_id=athlete_id)\n",
    "        for a, b, c in os.walk(athlete_dir):\n",
    "            raw_files = c\n",
    "        activity_files = []\n",
    "        [activity_files.append(file) if '.csv' in file else 0  for file in raw_files]\n",
    "        return activity_files\n",
    "    \n",
    "    def _athlete_dir(self, athlete_id: str) -> str:\n",
    "        athlete_dir = os.path.join(self.root_dir, athlete_id)\n",
    "        return athlete_dir\n",
    "\n",
    "    def _athlete_summary_path(self, athlete_id: str)  -> str:\n",
    "        summary_filename = \"{\" + athlete_id + \"}.json\"\n",
    "        ath_summary_path = os.path.join(self.root_dir, athlete_id, summary_filename)\n",
    "        return ath_summary_path\n",
    "    \n",
    "    @staticmethod\n",
    "    def _safe_convert(original_series: pd.Series, type_convert: type) -> pd.Series:\n",
    "        try:\n",
    "            new_series = original_series.astype(type_convert)\n",
    "            return new_series\n",
    "        except:\n",
    "            return original_series\n",
    "    @staticmethod\n",
    "    def _safe_list_decompression(original_series: pd.Series,  type_convert: type) -> pd.DataFrame:\n",
    "        metric_base_name = original_series.name\n",
    "        # def safe_split(val):\n",
    "        #     if type(val) == list:\n",
    "        #         return val[0], val[1]\n",
    "        #     else:\n",
    "        #         return 0, 0\n",
    "        # original_series.apply(lambda x: safe_split(x))\n",
    "        decompressed_df = pd.DataFrame(original_series.to_list(), columns=[f'{metric_base_name}_value','{metric_base_name}_duration'])\n",
    "        return decompressed_df\n",
    "\n"
   ]
  },
  {
   "cell_type": "code",
   "execution_count": 168,
   "id": "f97b7918",
   "metadata": {},
   "outputs": [],
   "source": [
    "od = open_dataset(root_dir)"
   ]
  },
  {
   "cell_type": "code",
   "execution_count": 169,
   "id": "70aa2270",
   "metadata": {},
   "outputs": [
    {
     "name": "stdout",
     "output_type": "stream",
     "text": [
      "METRICS.a_skiba_xpower\n",
      "METRICS.a_skiba_relative_intensity\n",
      "METRICS.a_coggan_np\n",
      "METRICS.a_coggan_if\n",
      "METRICS.a_coggam_variability_index\n",
      "METRICS.a_coggan_tssperhour\n",
      "METRICS.power_index\n",
      "METRICS.average_power\n",
      "--fail\n",
      "METRICS.average_apower\n",
      "METRICS.nonzero_power\n",
      "METRICS.average_cad\n",
      "--fail\n",
      "METRICS.skiba_xpower\n",
      "METRICS.skiba_relative_intensity\n",
      "METRICS.coggan_np\n",
      "METRICS.coggan_if\n",
      "METRICS.coggam_variability_index\n",
      "METRICS.coggan_tssperhour\n",
      "METRICS.average_run_cad\n",
      "METRICS.efficiency_index\n",
      "METRICS.average_stride_length\n",
      "METRICS.time_in_zone_L1\n",
      "METRICS.time_in_zone_L2\n",
      "METRICS.time_in_zone_L3\n",
      "METRICS.time_in_zone_L4\n",
      "METRICS.time_in_zone_L5\n",
      "METRICS.time_in_zone_L6\n",
      "METRICS.time_in_zone_L7\n",
      "METRICS.percent_in_zone_L1\n",
      "METRICS.percent_in_zone_L2\n",
      "METRICS.percent_in_zone_L3\n",
      "METRICS.percent_in_zone_L4\n",
      "METRICS.percent_in_zone_L5\n",
      "METRICS.percent_in_zone_L6\n",
      "METRICS.percent_in_zone_L7\n",
      "METRICS.percent_in_zone_L8\n",
      "METRICS.percent_in_zone_L9\n",
      "METRICS.percent_in_zone_L10\n",
      "METRICS.vo2max\n",
      "METRICS.average_wpk\n",
      "METRICS.skiba_wprime_exp\n",
      "METRICS.skiba_wprime_watts\n",
      "METRICS.skiba_cp_exp\n",
      "METRICS.compatibility_3\n",
      "METRICS.compatibility_2\n",
      "METRICS.compatibility_1\n",
      "--fail\n",
      "METRICS.power_dist\n",
      "--fail\n",
      "METRICS.power_dist_bins\n",
      "--fail\n",
      "METRICS.speed_dist\n",
      "--fail\n",
      "METRICS.speed_dist_bins\n",
      "--fail\n",
      "METRICS.cadence_dist\n",
      "--fail\n",
      "METRICS.cadence_dist_bins\n",
      "--fail\n",
      "METRICS.power_mmp\n",
      "--fail\n",
      "METRICS.power_mmp_secs\n",
      "--fail\n",
      "METRICS.average_hr\n",
      "--fail\n",
      "METRICS.average_ct\n",
      "--fail\n",
      "METRICS.time_in_zone_H1\n",
      "--fail\n",
      "METRICS.time_in_zone_H2\n",
      "--fail\n",
      "METRICS.time_in_zone_H3\n",
      "--fail\n",
      "METRICS.time_in_zone_H4\n",
      "--fail\n",
      "METRICS.time_in_zone_H5\n",
      "--fail\n",
      "METRICS.percent_in_zone_H1\n",
      "--fail\n",
      "METRICS.percent_in_zone_H2\n",
      "--fail\n",
      "METRICS.percent_in_zone_H3\n",
      "--fail\n",
      "METRICS.percent_in_zone_H4\n",
      "--fail\n",
      "METRICS.percent_in_zone_H5\n",
      "--fail\n",
      "METRICS.percent_in_zone_H6\n",
      "--fail\n",
      "METRICS.percent_in_zone_H7\n",
      "--fail\n",
      "METRICS.percent_in_zone_H8\n",
      "--fail\n",
      "METRICS.percent_in_zone_H9\n",
      "--fail\n",
      "METRICS.percent_in_zone_H10\n",
      "--fail\n",
      "METRICS.heart.rate_dist\n",
      "--fail\n",
      "METRICS.heart.rate_dist_bins\n",
      "--fail\n",
      "METRICS.climb_rating\n",
      "--fail\n",
      "METRICS.left_right_balance\n",
      "--fail\n"
     ]
    }
   ],
   "source": [
    "ov = od.get_athlete_summary(od.athlete_ids[2])"
   ]
  },
  {
   "cell_type": "code",
   "execution_count": 190,
   "id": "368a3fee",
   "metadata": {},
   "outputs": [],
   "source": [
    "l = ov[ov['sport'] == 'Bike']"
   ]
  },
  {
   "cell_type": "code",
   "execution_count": 191,
   "id": "231cd9e3",
   "metadata": {},
   "outputs": [
    {
     "data": {
      "text/plain": [
       "<AxesSubplot:>"
      ]
     },
     "execution_count": 191,
     "metadata": {},
     "output_type": "execute_result"
    },
    {
     "data": {
      "image/png": "[encoded data removed]",
      "text/plain": [
       "<Figure size 1000x200 with 1 Axes>"
      ]
     },
     "metadata": {},
     "output_type": "display_data"
    }
   ],
   "source": [
    "l[['METRICS.60m_critical_power','METRICS.20m_critical_power']].rolling(window=60,min_periods=1).max().plot(figsize=(10,2))"
   ]
  },
  {
   "cell_type": "code",
   "execution_count": 194,
   "id": "204d21ac",
   "metadata": {},
   "outputs": [
    {
     "data": {
      "text/plain": [
       "73       91.06705\n",
       "74       15.77101\n",
       "75       38.02329\n",
       "76        2.01822\n",
       "77      175.99090\n",
       "          ...    \n",
       "1958      0.00000\n",
       "1959      0.00000\n",
       "1960      0.00000\n",
       "1961    108.51798\n",
       "1962    100.06901\n",
       "Name: METRICS.a_coggan_tss, Length: 1654, dtype: float64"
      ]
     },
     "execution_count": 194,
     "metadata": {},
     "output_type": "execute_result"
    }
   ],
   "source": [
    "l['METRICS.a_coggan_tss'].fillna(0)"
   ]
  },
  {
   "cell_type": "code",
   "execution_count": 125,
   "id": "3de0c26e",
   "metadata": {},
   "outputs": [
    {
     "data": {
      "text/plain": [
       "list"
      ]
     },
     "execution_count": 125,
     "metadata": {},
     "output_type": "execute_result"
    }
   ],
   "source": [
    "type(l['METRICS.skiba_relative_intensity'][75])"
   ]
  },
  {
   "cell_type": "code",
   "execution_count": 120,
   "id": "b2f80d1f",
   "metadata": {},
   "outputs": [
    {
     "ename": "TypeError",
     "evalue": "'>' not supported between instances of 'list' and 'float'",
     "output_type": "error",
     "traceback": [
      "\u001b[0;31m---------------------------------------------------------------------------\u001b[0m",
      "\u001b[0;31mTypeError\u001b[0m                                 Traceback (most recent call last)",
      "Cell \u001b[0;32mIn [120], line 1\u001b[0m\n\u001b[0;32m----> 1\u001b[0m l[l[\u001b[39m'\u001b[39;49m\u001b[39mMETRICS.skiba_relative_intensity\u001b[39;49m\u001b[39m'\u001b[39;49m] \u001b[39m>\u001b[39;49m \u001b[39m.9\u001b[39;49m]\n",
      "File \u001b[0;32m~/opt/anaconda3/envs/analytics_310/lib/python3.10/site-packages/pandas/core/ops/common.py:70\u001b[0m, in \u001b[0;36m_unpack_zerodim_and_defer.<locals>.new_method\u001b[0;34m(self, other)\u001b[0m\n\u001b[1;32m     66\u001b[0m             \u001b[39mreturn\u001b[39;00m \u001b[39mNotImplemented\u001b[39m\n\u001b[1;32m     68\u001b[0m other \u001b[39m=\u001b[39m item_from_zerodim(other)\n\u001b[0;32m---> 70\u001b[0m \u001b[39mreturn\u001b[39;00m method(\u001b[39mself\u001b[39;49m, other)\n",
      "File \u001b[0;32m~/opt/anaconda3/envs/analytics_310/lib/python3.10/site-packages/pandas/core/arraylike.py:56\u001b[0m, in \u001b[0;36mOpsMixin.__gt__\u001b[0;34m(self, other)\u001b[0m\n\u001b[1;32m     54\u001b[0m \u001b[39m@unpack_zerodim_and_defer\u001b[39m(\u001b[39m\"\u001b[39m\u001b[39m__gt__\u001b[39m\u001b[39m\"\u001b[39m)\n\u001b[1;32m     55\u001b[0m \u001b[39mdef\u001b[39;00m \u001b[39m__gt__\u001b[39m(\u001b[39mself\u001b[39m, other):\n\u001b[0;32m---> 56\u001b[0m     \u001b[39mreturn\u001b[39;00m \u001b[39mself\u001b[39;49m\u001b[39m.\u001b[39;49m_cmp_method(other, operator\u001b[39m.\u001b[39;49mgt)\n",
      "File \u001b[0;32m~/opt/anaconda3/envs/analytics_310/lib/python3.10/site-packages/pandas/core/series.py:5623\u001b[0m, in \u001b[0;36mSeries._cmp_method\u001b[0;34m(self, other, op)\u001b[0m\n\u001b[1;32m   5620\u001b[0m rvalues \u001b[39m=\u001b[39m extract_array(other, extract_numpy\u001b[39m=\u001b[39m\u001b[39mTrue\u001b[39;00m, extract_range\u001b[39m=\u001b[39m\u001b[39mTrue\u001b[39;00m)\n\u001b[1;32m   5622\u001b[0m \u001b[39mwith\u001b[39;00m np\u001b[39m.\u001b[39merrstate(\u001b[39mall\u001b[39m\u001b[39m=\u001b[39m\u001b[39m\"\u001b[39m\u001b[39mignore\u001b[39m\u001b[39m\"\u001b[39m):\n\u001b[0;32m-> 5623\u001b[0m     res_values \u001b[39m=\u001b[39m ops\u001b[39m.\u001b[39;49mcomparison_op(lvalues, rvalues, op)\n\u001b[1;32m   5625\u001b[0m \u001b[39mreturn\u001b[39;00m \u001b[39mself\u001b[39m\u001b[39m.\u001b[39m_construct_result(res_values, name\u001b[39m=\u001b[39mres_name)\n",
      "File \u001b[0;32m~/opt/anaconda3/envs/analytics_310/lib/python3.10/site-packages/pandas/core/ops/array_ops.py:283\u001b[0m, in \u001b[0;36mcomparison_op\u001b[0;34m(left, right, op)\u001b[0m\n\u001b[1;32m    280\u001b[0m     \u001b[39mreturn\u001b[39;00m invalid_comparison(lvalues, rvalues, op)\n\u001b[1;32m    282\u001b[0m \u001b[39melif\u001b[39;00m is_object_dtype(lvalues\u001b[39m.\u001b[39mdtype) \u001b[39mor\u001b[39;00m \u001b[39misinstance\u001b[39m(rvalues, \u001b[39mstr\u001b[39m):\n\u001b[0;32m--> 283\u001b[0m     res_values \u001b[39m=\u001b[39m comp_method_OBJECT_ARRAY(op, lvalues, rvalues)\n\u001b[1;32m    285\u001b[0m \u001b[39melse\u001b[39;00m:\n\u001b[1;32m    286\u001b[0m     res_values \u001b[39m=\u001b[39m _na_arithmetic_op(lvalues, rvalues, op, is_cmp\u001b[39m=\u001b[39m\u001b[39mTrue\u001b[39;00m)\n",
      "File \u001b[0;32m~/opt/anaconda3/envs/analytics_310/lib/python3.10/site-packages/pandas/core/ops/array_ops.py:73\u001b[0m, in \u001b[0;36mcomp_method_OBJECT_ARRAY\u001b[0;34m(op, x, y)\u001b[0m\n\u001b[1;32m     71\u001b[0m     result \u001b[39m=\u001b[39m libops\u001b[39m.\u001b[39mvec_compare(x\u001b[39m.\u001b[39mravel(), y\u001b[39m.\u001b[39mravel(), op)\n\u001b[1;32m     72\u001b[0m \u001b[39melse\u001b[39;00m:\n\u001b[0;32m---> 73\u001b[0m     result \u001b[39m=\u001b[39m libops\u001b[39m.\u001b[39;49mscalar_compare(x\u001b[39m.\u001b[39;49mravel(), y, op)\n\u001b[1;32m     74\u001b[0m \u001b[39mreturn\u001b[39;00m result\u001b[39m.\u001b[39mreshape(x\u001b[39m.\u001b[39mshape)\n",
      "File \u001b[0;32m~/opt/anaconda3/envs/analytics_310/lib/python3.10/site-packages/pandas/_libs/ops.pyx:107\u001b[0m, in \u001b[0;36mpandas._libs.ops.scalar_compare\u001b[0;34m()\u001b[0m\n",
      "\u001b[0;31mTypeError\u001b[0m: '>' not supported between instances of 'list' and 'float'"
     ]
    }
   ],
   "source": [
    "l[l['METRICS.skiba_relative_intensity'] > .9]"
   ]
  },
  {
   "cell_type": "code",
   "execution_count": null,
   "id": "0a6a6576",
   "metadata": {},
   "outputs": [],
   "source": []
  },
  {
   "cell_type": "markdown",
   "id": "ef63ee8d",
   "metadata": {},
   "source": [
    "# Sample Explore"
   ]
  },
  {
   "cell_type": "code",
   "execution_count": null,
   "id": "80d43577",
   "metadata": {},
   "outputs": [],
   "source": [
    "target_id = \"7567ac31-d479-4b25-9538-541ae8085288\""
   ]
  },
  {
   "cell_type": "code",
   "execution_count": null,
   "id": "694919c1",
   "metadata": {},
   "outputs": [],
   "source": [
    "act_samp = activ_sum[activ_sum['id'] == target_id].copy()"
   ]
  },
  {
   "cell_type": "code",
   "execution_count": null,
   "id": "8bcd5984",
   "metadata": {},
   "outputs": [],
   "source": [
    "act_samp.columns.tolist()"
   ]
  },
  {
   "cell_type": "code",
   "execution_count": null,
   "id": "282df8b0",
   "metadata": {},
   "outputs": [],
   "source": [
    "act_samp['athlete_weight'] = act_samp['20m_critical_power']/act_samp['20m_peak_wpk']\n",
    "act_samp['athlete_weight'] = act_samp['athlete_weight'].ffill().bfill()"
   ]
  },
  {
   "cell_type": "code",
   "execution_count": null,
   "id": "ce316cd9",
   "metadata": {},
   "outputs": [],
   "source": [
    "act_samp.set_index('date',inplace=True)"
   ]
  },
  {
   "cell_type": "code",
   "execution_count": null,
   "id": "fcfa12f2",
   "metadata": {},
   "outputs": [],
   "source": [
    "act_samp[act_samp['sport'] == 'Bike']['20m_critical_power'].rolling(window=90, min_periods=1).max().plot();"
   ]
  },
  {
   "cell_type": "code",
   "execution_count": null,
   "id": "f9ff4dd0",
   "metadata": {},
   "outputs": [],
   "source": [
    "act_samp.plot(kind='scatter',x='workout_time',y='average_hr')"
   ]
  },
  {
   "cell_type": "code",
   "execution_count": null,
   "id": "cba5beeb",
   "metadata": {},
   "outputs": [],
   "source": [
    "def calc_vo2(row, max_hr, resting_hr):\n",
    "    if row['sport'] == 'Bike':\n",
    "        percent_vo2 = (row['average_hr'] - resting_hr)/(max_hr - resting_hr)\n",
    "        vo2_estimated = (((row['average_power']/75)*1000)/row['athlete_weight']) / percent_vo2\n",
    "        # vo2_estimated = row['VO2max_Detected'] ## overide with Garmin VO2 Estimation\n",
    "    elif row['sport'] == 'Run':\n",
    "        percent_vo2 = (row['average_hr'] - resting_hr)/(max_hr - resting_hr)\n",
    "        vo2_estimated = (210/row['average_speed']) / percent_vo2\n",
    "    else:\n",
    "        vo2_estimated =  0\n",
    "    return vo2_estimated"
   ]
  },
  {
   "cell_type": "code",
   "execution_count": null,
   "id": "891dcc57",
   "metadata": {},
   "outputs": [],
   "source": [
    "act_samp['VO2'] = act_samp.apply(lambda row: calc_vo2(row, 179, 45), axis=1)"
   ]
  },
  {
   "cell_type": "code",
   "execution_count": null,
   "id": "0239d997",
   "metadata": {},
   "outputs": [],
   "source": [
    "act_samp"
   ]
  },
  {
   "cell_type": "markdown",
   "id": "c45b462c",
   "metadata": {},
   "source": [
    "# Modeling"
   ]
  },
  {
   "cell_type": "code",
   "execution_count": null,
   "id": "7fce3af5",
   "metadata": {},
   "outputs": [],
   "source": [
    "class NN(nn.Module):\n",
    "    def __init__(self):\n",
    "        super().__init__()\n",
    "        self.fc1 = nn.Linear(2, 2)\n",
    "        self.fc2 = nn.Linear(2, 2)\n",
    "        self.fc3 = nn.Linear(2, 1)\n",
    "         \n",
    "    def forward(self, x):\n",
    "        x = F.relu(self.fc1(x))\n",
    "        x = F.relu(self.fc2(x))\n",
    "        x = self.fc3(x)\n",
    "        \n",
    "        return F.log_softmax(x, dim=1)\n",
    "    \n",
    "net = NN()\n",
    "print(net)"
   ]
  },
  {
   "cell_type": "code",
   "execution_count": null,
   "id": "a0b030e9",
   "metadata": {},
   "outputs": [],
   "source": []
  }
 ],
 "metadata": {
  "kernelspec": {
   "display_name": "Python 3 (ipykernel)",
   "language": "python",
   "name": "python3"
  },
  "language_info": {
   "codemirror_mode": {
    "name": "ipython",
    "version": 3
   },
   "file_extension": ".py",
   "mimetype": "text/x-python",
   "name": "python",
   "nbconvert_exporter": "python",
   "pygments_lexer": "ipython3",
   "version": "3.10.4"
  }
 },
 "nbformat": 4,
 "nbformat_minor": 5
}
