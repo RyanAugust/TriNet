{
 "cells": [
  {
   "cell_type": "code",
   "execution_count": null,
   "id": "4fc7d2b9",
   "metadata": {},
   "outputs": [],
   "source": [
    "import torch\n",
    "import torch.nn as nn\n",
    "import torch.nn.functional as F\n",
    "\n",
    "import torch.optim as optim"
   ]
  },
  {
   "cell_type": "code",
   "execution_count": null,
   "id": "8ca96755",
   "metadata": {},
   "outputs": [],
   "source": [
    "import os\n",
    "import pandas as pd\n",
    "import json"
   ]
  },
  {
   "cell_type": "markdown",
   "id": "57f92abf",
   "metadata": {},
   "source": [
    "# Retrieve data\n",
    "___\n",
    "Sourced from Golden Cheetah Open Data Project"
   ]
  },
  {
   "cell_type": "code",
   "execution_count": null,
   "id": "9b228391",
   "metadata": {},
   "outputs": [],
   "source": [
    "root_dir = 'E:\\gc_opendata'\n",
    "for a,b,c in os.walk(root_dir):\n",
    "    athletes = b\n",
    "    athletes.remove('INDEX')\n",
    "    break"
   ]
  },
  {
   "cell_type": "code",
   "execution_count": null,
   "id": "e50e3b2a",
   "metadata": {},
   "outputs": [],
   "source": [
    "target_athlete = athletes[0]\n",
    "for a, b, c in os.walk(f'{root_dir}\\{target_athlete}'):\n",
    "    activities = c\n",
    "    break"
   ]
  },
  {
   "cell_type": "code",
   "execution_count": null,
   "id": "bd3de95d",
   "metadata": {},
   "outputs": [],
   "source": [
    "target_activity = activities[-1]\n",
    "with open(f'{root_dir}\\{target_athlete}\\{target_activity}', 'r') as f:\n",
    "    ath_overview = f.read()"
   ]
  },
  {
   "cell_type": "code",
   "execution_count": null,
   "id": "37440fe5",
   "metadata": {},
   "outputs": [],
   "source": [
    "slip = json.loads(ath_overview)"
   ]
  },
  {
   "cell_type": "code",
   "execution_count": null,
   "id": "ad6dce52",
   "metadata": {},
   "outputs": [],
   "source": [
    "slip = pd.DataFrame(pd.json_normalize(slip['RIDES']))"
   ]
  },
  {
   "cell_type": "code",
   "execution_count": null,
   "id": "72c6890d",
   "metadata": {},
   "outputs": [],
   "source": [
    "slip"
   ]
  },
  {
   "cell_type": "code",
   "execution_count": null,
   "id": "ef391f7d",
   "metadata": {},
   "outputs": [],
   "source": [
    "activ_sum = pd.read_csv(\"C:/Users/ryand/git/TriHealth/activities.csv\",parse_dates=['date'])"
   ]
  },
  {
   "cell_type": "code",
   "execution_count": null,
   "id": "d163fbd9",
   "metadata": {},
   "outputs": [],
   "source": [
    "activ_sum[['id','file']].groupby('id').count().sort_values('file').tail(30)"
   ]
  },
  {
   "cell_type": "markdown",
   "id": "ef63ee8d",
   "metadata": {},
   "source": [
    "# Sample Explore"
   ]
  },
  {
   "cell_type": "code",
   "execution_count": null,
   "id": "80d43577",
   "metadata": {},
   "outputs": [],
   "source": [
    "target_id = \"7567ac31-d479-4b25-9538-541ae8085288\""
   ]
  },
  {
   "cell_type": "code",
   "execution_count": null,
   "id": "694919c1",
   "metadata": {},
   "outputs": [],
   "source": [
    "act_samp = activ_sum[activ_sum['id'] == target_id].copy()"
   ]
  },
  {
   "cell_type": "code",
   "execution_count": null,
   "id": "8bcd5984",
   "metadata": {},
   "outputs": [],
   "source": [
    "act_samp.columns.tolist()"
   ]
  },
  {
   "cell_type": "code",
   "execution_count": null,
   "id": "282df8b0",
   "metadata": {},
   "outputs": [],
   "source": [
    "act_samp['athlete_weight'] = act_samp['20m_critical_power']/act_samp['20m_peak_wpk']\n",
    "act_samp['athlete_weight'] = act_samp['athlete_weight'].ffill().bfill()"
   ]
  },
  {
   "cell_type": "code",
   "execution_count": null,
   "id": "ce316cd9",
   "metadata": {},
   "outputs": [],
   "source": [
    "act_samp.set_index('date',inplace=True)"
   ]
  },
  {
   "cell_type": "code",
   "execution_count": null,
   "id": "fcfa12f2",
   "metadata": {},
   "outputs": [],
   "source": [
    "act_samp[act_samp['sport'] == 'Bike']['20m_critical_power'].rolling(window=90, min_periods=1).max().plot();"
   ]
  },
  {
   "cell_type": "code",
   "execution_count": null,
   "id": "f9ff4dd0",
   "metadata": {},
   "outputs": [],
   "source": [
    "act_samp.plot(kind='scatter',x='workout_time',y='average_hr')"
   ]
  },
  {
   "cell_type": "code",
   "execution_count": null,
   "id": "cba5beeb",
   "metadata": {},
   "outputs": [],
   "source": [
    "def calc_vo2(row, max_hr, resting_hr):\n",
    "    if row['sport'] == 'Bike':\n",
    "        percent_vo2 = (row['average_hr'] - resting_hr)/(max_hr - resting_hr)\n",
    "        vo2_estimated = (((row['average_power']/75)*1000)/row['athlete_weight']) / percent_vo2\n",
    "        # vo2_estimated = row['VO2max_Detected'] ## overide with Garmin VO2 Estimation\n",
    "    elif row['sport'] == 'Run':\n",
    "        percent_vo2 = (row['average_hr'] - resting_hr)/(max_hr - resting_hr)\n",
    "        vo2_estimated = (210/row['average_speed']) / percent_vo2\n",
    "    else:\n",
    "        vo2_estimated =  0\n",
    "    return vo2_estimated"
   ]
  },
  {
   "cell_type": "code",
   "execution_count": null,
   "id": "891dcc57",
   "metadata": {},
   "outputs": [],
   "source": [
    "act_samp['VO2'] = act_samp.apply(lambda row: calc_vo2(row, 179, 45), axis=1)"
   ]
  },
  {
   "cell_type": "code",
   "execution_count": null,
   "id": "0239d997",
   "metadata": {},
   "outputs": [],
   "source": [
    "act_samp"
   ]
  },
  {
   "cell_type": "markdown",
   "id": "c45b462c",
   "metadata": {},
   "source": [
    "# Modeling"
   ]
  },
  {
   "cell_type": "code",
   "execution_count": null,
   "id": "7fce3af5",
   "metadata": {},
   "outputs": [],
   "source": [
    "class NN(nn.Module):\n",
    "    def __init__(self):\n",
    "        super().__init__()\n",
    "        self.fc1 = nn.Linear(2, 2)\n",
    "        self.fc2 = nn.Linear(2, 2)\n",
    "        self.fc3 = nn.Linear(2, 1)\n",
    "         \n",
    "    def forward(self, x):\n",
    "        x = F.relu(self.fc1(x))\n",
    "        x = F.relu(self.fc2(x))\n",
    "        x = self.fc3(x)\n",
    "        \n",
    "        return F.log_softmax(x, dim=1)\n",
    "    \n",
    "net = NN()\n",
    "print(net)"
   ]
  },
  {
   "cell_type": "code",
   "execution_count": null,
   "id": "a0b030e9",
   "metadata": {},
   "outputs": [],
   "source": []
  }
 ],
 "metadata": {
  "kernelspec": {
   "display_name": "Python 3 (ipykernel)",
   "language": "python",
   "name": "python3"
  },
  "language_info": {
   "codemirror_mode": {
    "name": "ipython",
    "version": 3
   },
   "file_extension": ".py",
   "mimetype": "text/x-python",
   "name": "python",
   "nbconvert_exporter": "python",
   "pygments_lexer": "ipython3",
   "version": "3.10.4"
  }
 },
 "nbformat": 4,
 "nbformat_minor": 5
}
