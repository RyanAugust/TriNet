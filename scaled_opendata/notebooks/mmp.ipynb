{
 "cells": [
  {
   "cell_type": "code",
   "execution_count": null,
   "metadata": {},
   "outputs": [],
   "source": [
    "import opendata_connect\n",
    "import numpy as np\n",
    "import os\n",
    "import matplotlib.pyplot as plt\n",
    "\n",
    "try:\n",
    "    if 'apple' in os.environ['BUILD']:\n",
    "        root_dir = '../gc_opendata-samples'\n",
    "    else:\n",
    "        root_dir = 'E:\\gc_opendata'\n",
    "except:\n",
    "    root_dir = 'E:\\gc_opendata'\n",
    "\n",
    "od = opendata_connect.open_dataset(root_dir)\n",
    "\n",
    "ov = od.get_athlete_summary(od.athlete_ids[2])\n",
    "\n",
    "ovp = ov[ov['data'].str.contains('P')].copy() ## give me the power\n",
    "\n",
    "mmp_cols = []\n",
    "for col in ovp.columns:\n",
    "    if 'METRICS.power_mmp_value' in col:\n",
    "        # ovp[col] = np.where(ovp[col] >= 95, 1, 0)\n",
    "        mmp_cols.append(col)"
   ]
  },
  {
   "cell_type": "code",
   "execution_count": null,
   "metadata": {},
   "outputs": [],
   "source": [
    "# ovp[mmp_cols].sum().plot()"
   ]
  },
  {
   "cell_type": "code",
   "execution_count": null,
   "metadata": {},
   "outputs": [],
   "source": [
    "ov[['METRICS.5m_critical_power','METRICS.20m_critical_power']]."
   ]
  },
  {
   "cell_type": "code",
   "execution_count": null,
   "metadata": {},
   "outputs": [],
   "source": [
    "ov[['METRICS.5m_critical_power','METRICS.20m_critical_power','METRICS.60m_critical_power','METRICS.cp_setting']].rolling(window=30, center=True, min_periods=1).max().plot()"
   ]
  },
  {
   "cell_type": "code",
   "execution_count": null,
   "metadata": {},
   "outputs": [],
   "source": [
    "ov[['METRICS.skiba_cp_exp_value','METRICS.cp_setting','METRICS.60m_critical_power']]"
   ]
  },
  {
   "cell_type": "code",
   "execution_count": null,
   "metadata": {},
   "outputs": [],
   "source": []
  },
  {
   "cell_type": "code",
   "execution_count": null,
   "metadata": {},
   "outputs": [],
   "source": [
    "refs ={'5m':{'mmp_col':'METRICS.power_mmp_value_203'\n",
    "             ,'cp_col':'METRICS.5m_critical_power'}\n",
    "        ,'20m':{'mmp_col':'METRICS.power_mmp_value_283'\n",
    "             ,'cp_col':'METRICS.20m_critical_power'}}"
   ]
  },
  {
   "cell_type": "code",
   "execution_count": null,
   "metadata": {},
   "outputs": [],
   "source": [
    "ovp['20m_cp_40roll'] = ovp[refs['20m']['cp_col']].rolling(window=40, min_periods=1).max()"
   ]
  },
  {
   "cell_type": "code",
   "execution_count": null,
   "metadata": {},
   "outputs": [],
   "source": [
    "ovp['20m_rel_power'] = ovp[refs['20m']['mmp_col']] / ovp['20m_cp_40roll']"
   ]
  },
  {
   "cell_type": "code",
   "execution_count": null,
   "metadata": {},
   "outputs": [],
   "source": [
    "ovp['20m_rel_power'].plot()"
   ]
  },
  {
   "cell_type": "code",
   "execution_count": null,
   "metadata": {},
   "outputs": [],
   "source": [
    "ovp[ovp['20m_rel_power'] > .95][[refs['20m']['mmp_col'],'20m_rel_power','20m_cp_40roll','METRICS.cp_setting']]"
   ]
  },
  {
   "cell_type": "code",
   "execution_count": null,
   "metadata": {},
   "outputs": [],
   "source": []
  }
 ],
 "metadata": {
  "kernelspec": {
   "display_name": "analysis_310",
   "language": "python",
   "name": "python3"
  },
  "language_info": {
   "codemirror_mode": {
    "name": "ipython",
    "version": 3
   },
   "file_extension": ".py",
   "mimetype": "text/x-python",
   "name": "python",
   "nbconvert_exporter": "python",
   "pygments_lexer": "ipython3",
   "version": "3.10.4"
  }
 },
 "nbformat": 4,
 "nbformat_minor": 2
}
