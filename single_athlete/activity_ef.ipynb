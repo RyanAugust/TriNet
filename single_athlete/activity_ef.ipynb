{
 "cells": [
  {
   "cell_type": "code",
   "execution_count": null,
   "metadata": {},
   "outputs": [],
   "source": [
    "import sys\n",
    "# sys.path.append('C:\\\\Users\\\\ryand\\\\git\\\\CheetahPy')\n",
    "sys.path.append('../../CheetahPy')\n",
    "from cheetahpy import CheetahPy"
   ]
  },
  {
   "cell_type": "code",
   "execution_count": null,
   "metadata": {},
   "outputs": [],
   "source": [
    "import matplotlib.pyplot as plt\n",
    "import numpy as np\n",
    "import pandas as pd\n",
    "from sklearn.linear_model import LinearRegression"
   ]
  },
  {
   "cell_type": "code",
   "execution_count": null,
   "metadata": {},
   "outputs": [],
   "source": [
    "cp = CheetahPy()"
   ]
  },
  {
   "cell_type": "code",
   "execution_count": null,
   "metadata": {},
   "outputs": [],
   "source": [
    "def plot_activity_summary(ac):\n",
    "    fig, axs = plt.subplots(2, 2, figsize=(7,5))\n",
    "    ac['kph'].plot(kind='hist', bins=40, title='KPH', ax=axs[0][0])\n",
    "    ac[ac['lat']!=0][['lat','lon']].plot(x='lon',y='lat',title='Map', ax=axs[0][1])\n",
    "    ac[ac['hr'] > ac['hr'].quantile(.05)]['hr'].plot(kind='hist', bins='fd', title='HR', color='red', ax=axs[1][0])\n",
    "    ac['watts'].plot(kind='hist', bins='fd', title='Power', color='green', ax=axs[1][1])\n",
    "    fig.tight_layout()"
   ]
  },
  {
   "cell_type": "code",
   "execution_count": null,
   "metadata": {},
   "outputs": [],
   "source": [
    "activ = cp.get_activities(\"Ryan Duecker\"\n",
    "                         ,start_date=\"2021/01/01\"\n",
    "                         ,end_date=\"2023/02/01\"\n",
    "                         ,metadata=['Workout_Code','Sport']\n",
    "                         ,activity_filenames_only=False)"
   ]
  },
  {
   "cell_type": "code",
   "execution_count": null,
   "metadata": {},
   "outputs": [],
   "source": [
    "fns = activ[(activ['Sport'] == 'Bike') & (activ['Workout_Code'] == 'AnE')]['filename'].tolist()"
   ]
  },
  {
   "cell_type": "code",
   "execution_count": null,
   "metadata": {},
   "outputs": [],
   "source": [
    "len(fns)"
   ]
  },
  {
   "cell_type": "code",
   "execution_count": null,
   "metadata": {},
   "outputs": [],
   "source": [
    "ac = cp.get_activity(athlete=\"Ryan Duecker\"\n",
    "                    ,activity_filename=fns[-1])\n",
    "plot_activity_summary(ac)\n",
    "print(ac['secs'].to_numpy()[-1]/60)"
   ]
  },
  {
   "cell_type": "code",
   "execution_count": null,
   "metadata": {},
   "outputs": [],
   "source": [
    "var_Ti = ac['temp'].mean()\n",
    "var_HRi = ac['hr'].to_numpy()\n",
    "var_PWRi = ac['watts'].to_numpy()\n",
    "var_t = ac['secs'].to_numpy()\n",
    "cons_lag = 15\n",
    "\n",
    "## Genral Formula\n",
    "# P_it = a_i + b_i*H_i,t+l + c*t*T_i\n",
    "X = np.vstack((var_HRi[cons_lag:],(var_t[:-cons_lag] * var_Ti))).T\n",
    "y = var_PWRi[:-cons_lag]"
   ]
  },
  {
   "cell_type": "code",
   "execution_count": null,
   "metadata": {},
   "outputs": [],
   "source": [
    "reg = LinearRegression(fit_intercept=True).fit(X, y)"
   ]
  },
  {
   "cell_type": "code",
   "execution_count": null,
   "metadata": {},
   "outputs": [],
   "source": [
    "y_hat = reg.predict(X)\n",
    "errors = y - y_hat\n",
    "(errors**2).sum()/errors.shape[0]"
   ]
  },
  {
   "cell_type": "code",
   "execution_count": null,
   "metadata": {},
   "outputs": [],
   "source": [
    "fig, axs = plt.subplots(1,2, figsize=(7,3))\n",
    "axs[0].hist(errors, label='errors', bins='fd')\n",
    "axs[1].plot(np.linspace(0,y.max()*1.25,5),np.linspace(0,y.max()*1.25,5), ls='--', color='black')\n",
    "axs[1].scatter(y, y_hat, label='actual vs. predicted', s=1, alpha=.5)\n",
    "axs[1].set_xlim(0,y.max()*1.05)\n",
    "axs[1].set_ylim(0,y.max()*1.05);"
   ]
  },
  {
   "cell_type": "code",
   "execution_count": null,
   "metadata": {},
   "outputs": [],
   "source": [
    "[reg.intercept_,reg.coef_]"
   ]
  },
  {
   "cell_type": "code",
   "execution_count": null,
   "metadata": {},
   "outputs": [],
   "source": [
    "[reg.intercept_,reg.coef_]"
   ]
  },
  {
   "attachments": {},
   "cell_type": "markdown",
   "metadata": {},
   "source": [
    "## Production functions"
   ]
  },
  {
   "cell_type": "code",
   "execution_count": null,
   "metadata": {},
   "outputs": [],
   "source": [
    "activ = cp.get_activities(\"Ryan Duecker\"\n",
    "                         ,start_date=\"2021/01/01\"\n",
    "                         ,end_date=\"2023/02/01\"\n",
    "                         ,metadata=['Workout_Code','Sport']\n",
    "                         ,activity_filenames_only=False)\n",
    "fns = activ[activ['Average_Power']>0]['filename'].tolist()"
   ]
  },
  {
   "cell_type": "code",
   "execution_count": null,
   "metadata": {},
   "outputs": [],
   "source": [
    "def extract_activity_data(fn):\n",
    "    ac = cp.get_activity(athlete=\"Ryan Duecker\"\n",
    "                    ,activity_filename=fn)\n",
    "    var_Ti = np.where(ac['temp'].mean() < -20, 20, ac['temp'].mean())\n",
    "    var_HRi = ac['hr'].to_numpy()\n",
    "    var_PWRi = ac['watts'].to_numpy()\n",
    "    var_t = ac['secs'].to_numpy()\n",
    "    cons_lag = 15\n",
    "\n",
    "    ## Genral Formula\n",
    "    # P_it = a_i + b_i*H_i,t+l + c*t*T_i\n",
    "    X = np.vstack((var_HRi[cons_lag:],(var_t[:-cons_lag] * var_Ti))).T\n",
    "    y = var_PWRi[:-cons_lag]\n",
    "    return X, y\n",
    "    "
   ]
  },
  {
   "cell_type": "code",
   "execution_count": null,
   "metadata": {},
   "outputs": [],
   "source": [
    "def make_coef(X,y):\n",
    "    reg = LinearRegression(fit_intercept=True).fit(X, y)\n",
    "    a = reg.intercept_\n",
    "    b,c = reg.coef_\n",
    "    rmse = np.sqrt(((y - reg.predict(X))**2).mean())\n",
    "    return a,b,c, rmse"
   ]
  },
  {
   "cell_type": "code",
   "execution_count": null,
   "metadata": {},
   "outputs": [],
   "source": [
    "def process_filenames(fns):\n",
    "    details = {'files':fns\n",
    "                ,'modeled':[]}\n",
    "    for fn in fns:\n",
    "        print(fn)\n",
    "        X, y = extract_activity_data(fn)\n",
    "        a,b,c, rmse = make_coef(X,y)\n",
    "        details['modeled'].append([a,b,c, rmse])\n",
    "    return details"
   ]
  },
  {
   "cell_type": "code",
   "execution_count": null,
   "metadata": {},
   "outputs": [],
   "source": [
    "files_modeled = process_filenames(fns)\n",
    "df = pd.DataFrame(files_modeled['modeled'],files_modeled['files']).reset_index()\n",
    "df.columns = ['files','a','b','c','rmse']\n",
    "df.to_csv('modeled_ef.csv')"
   ]
  }
 ],
 "metadata": {
  "kernelspec": {
   "display_name": "analysis_310",
   "language": "python",
   "name": "python3"
  },
  "language_info": {
   "codemirror_mode": {
    "name": "ipython",
    "version": 3
   },
   "file_extension": ".py",
   "mimetype": "text/x-python",
   "name": "python",
   "nbconvert_exporter": "python",
   "pygments_lexer": "ipython3",
   "version": "3.10.4 | packaged by conda-forge | (main, Mar 30 2022, 08:38:02) [MSC v.1916 64 bit (AMD64)]"
  },
  "vscode": {
   "interpreter": {
    "hash": "450c6c939a91a13d43daedb0706b943ba15a63d2bd7aa1f53ffd849b7045dd1a"
   }
  }
 },
 "nbformat": 4,
 "nbformat_minor": 2
}
