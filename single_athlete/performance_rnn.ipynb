{
 "cells": [
  {
   "cell_type": "code",
   "execution_count": 1,
   "metadata": {},
   "outputs": [
    {
     "name": "stdout",
     "output_type": "stream",
     "text": [
      "Local dataset available. process using `dataset_preprocess`\n"
     ]
    },
    {
     "data": {
      "text/plain": [
       "{'Daily_TSS': <bound method load_functions.daily_tss of <build_dataset.load_functions object at 0x7f966cbabf70>>,\n",
       " 'TIZ2_5': <bound method load_functions.tiz2of5 of <build_dataset.load_functions object at 0x7f966cbabf70>>,\n",
       " 'TIZ1_3': <bound method load_functions.tiz1of3 of <build_dataset.load_functions object at 0x7f966cbabf70>>,\n",
       " 'TIZ2_3': <bound method load_functions.tiz2of3 of <build_dataset.load_functions object at 0x7f966cbabf70>>,\n",
       " 'TIZ3_3': <bound method load_functions.tiz3of3 of <build_dataset.load_functions object at 0x7f966cbabf70>>}"
      ]
     },
     "execution_count": 1,
     "metadata": {},
     "output_type": "execute_result"
    }
   ],
   "source": [
    "import build_dataset\n",
    "\n",
    "lfx = build_dataset.load_functions()\n",
    "pfx = build_dataset.performance_functions()\n",
    "\n",
    "pp = build_dataset.dataset_preprocess(local_activity_store='gc_activitydata_local.csv'\n",
    "                                    ,local_activity_model_params='modeled_ef.csv')\n",
    "lfx.metric_function_map"
   ]
  },
  {
   "cell_type": "code",
   "execution_count": null,
   "metadata": {},
   "outputs": [],
   "source": []
  },
  {
   "cell_type": "code",
   "execution_count": 2,
   "metadata": {},
   "outputs": [
    {
     "data": {
      "text/plain": [
       "{'VO2': <bound method performance_functions.calc_vo2 of <build_dataset.performance_functions object at 0x7f966cbaaf50>>,\n",
       " 'Garmin VO2': <bound method performance_functions.use_garmin_vo2 of <build_dataset.performance_functions object at 0x7f966cbaaf50>>,\n",
       " 'AE EF': <bound method performance_functions.calc_ae_ef of <build_dataset.performance_functions object at 0x7f966cbaaf50>>,\n",
       " 'Power Index': <bound method performance_functions.use_power_index of <build_dataset.performance_functions object at 0x7f966cbaaf50>>,\n",
       " 'Power Index EF': <bound method performance_functions.use_power_index_ef of <build_dataset.performance_functions object at 0x7f966cbaaf50>>,\n",
       " 'Mod AE Power': <bound method performance_functions.modeled_aerobic_threshold_power of <build_dataset.performance_functions object at 0x7f966cbaaf50>>}"
      ]
     },
     "execution_count": 2,
     "metadata": {},
     "output_type": "execute_result"
    }
   ],
   "source": [
    "pfx.metric_function_map"
   ]
  },
  {
   "cell_type": "code",
   "execution_count": 3,
   "metadata": {},
   "outputs": [],
   "source": [
    "loaded_df = lfx.derive_load(frame=pp.activity_data, load_metric='TIZ1_3')\n",
    "loaded_df = lfx.derive_load(frame=pp.activity_data, load_metric='TIZ2_3')\n",
    "loaded_df = lfx.derive_load(frame=pp.activity_data, load_metric='TIZ3_3')\n",
    "loaded_df = loaded_df[loaded_df['TIZ1_3'].cumsum() > 0].copy()"
   ]
  },
  {
   "cell_type": "code",
   "execution_count": 4,
   "metadata": {},
   "outputs": [
    {
     "data": {
      "text/html": [
       "<div>\n",
       "<style scoped>\n",
       "    .dataframe tbody tr th:only-of-type {\n",
       "        vertical-align: middle;\n",
       "    }\n",
       "\n",
       "    .dataframe tbody tr th {\n",
       "        vertical-align: top;\n",
       "    }\n",
       "\n",
       "    .dataframe thead th {\n",
       "        text-align: right;\n",
       "    }\n",
       "</style>\n",
       "<table border=\"1\" class=\"dataframe\">\n",
       "  <thead>\n",
       "    <tr style=\"text-align: right;\">\n",
       "      <th></th>\n",
       "      <th>date</th>\n",
       "      <th>time</th>\n",
       "      <th>filename</th>\n",
       "      <th>Power_Index</th>\n",
       "      <th>Duration</th>\n",
       "      <th>Athlete_Weight</th>\n",
       "      <th>Average_Power</th>\n",
       "      <th>Average_Heart_Rate</th>\n",
       "      <th>Max_Heartrate</th>\n",
       "      <th>IsoPower</th>\n",
       "      <th>...</th>\n",
       "      <th>Shoes</th>\n",
       "      <th>Workout_Code</th>\n",
       "      <th>Workout_Title</th>\n",
       "      <th>Indoor</th>\n",
       "      <th>Frame</th>\n",
       "      <th>Sport</th>\n",
       "      <th>TIZ1_3</th>\n",
       "      <th>TIZ2_3</th>\n",
       "      <th>TIZ3_3</th>\n",
       "      <th>VO2</th>\n",
       "    </tr>\n",
       "  </thead>\n",
       "  <tbody>\n",
       "    <tr>\n",
       "      <th>493</th>\n",
       "      <td>2019-07-15</td>\n",
       "      <td>19:00:00</td>\n",
       "      <td>2019_07_15_19_00_00.json</td>\n",
       "      <td>59.5380</td>\n",
       "      <td>2015</td>\n",
       "      <td>87.320</td>\n",
       "      <td>159.9330</td>\n",
       "      <td>129.5160</td>\n",
       "      <td>170.0</td>\n",
       "      <td>196.2460</td>\n",
       "      <td>...</td>\n",
       "      <td>NaN</td>\n",
       "      <td>AE</td>\n",
       "      <td>Easy</td>\n",
       "      <td>1.0</td>\n",
       "      <td>Equinox Stages Bike</td>\n",
       "      <td>Bike</td>\n",
       "      <td>1552</td>\n",
       "      <td>223</td>\n",
       "      <td>240</td>\n",
       "      <td>41.194513</td>\n",
       "    </tr>\n",
       "    <tr>\n",
       "      <th>494</th>\n",
       "      <td>2019-07-16</td>\n",
       "      <td>07:40:22</td>\n",
       "      <td>2019_07_16_07_40_22.json</td>\n",
       "      <td>0.0000</td>\n",
       "      <td>4623</td>\n",
       "      <td>87.320</td>\n",
       "      <td>0.0000</td>\n",
       "      <td>157.4370</td>\n",
       "      <td>171.0</td>\n",
       "      <td>0.0000</td>\n",
       "      <td>...</td>\n",
       "      <td>NaN</td>\n",
       "      <td>AE</td>\n",
       "      <td>Long</td>\n",
       "      <td>1.0</td>\n",
       "      <td>NaN</td>\n",
       "      <td>Other</td>\n",
       "      <td>0</td>\n",
       "      <td>0</td>\n",
       "      <td>0</td>\n",
       "      <td>0.000000</td>\n",
       "    </tr>\n",
       "    <tr>\n",
       "      <th>495</th>\n",
       "      <td>2019-07-17</td>\n",
       "      <td>06:19:04</td>\n",
       "      <td>2019_07_17_06_19_04.json</td>\n",
       "      <td>64.6141</td>\n",
       "      <td>2761</td>\n",
       "      <td>87.630</td>\n",
       "      <td>172.2460</td>\n",
       "      <td>136.5370</td>\n",
       "      <td>174.0</td>\n",
       "      <td>206.9030</td>\n",
       "      <td>...</td>\n",
       "      <td>NaN</td>\n",
       "      <td>T</td>\n",
       "      <td>FTP</td>\n",
       "      <td>1.0</td>\n",
       "      <td>Equinox Stages Bike</td>\n",
       "      <td>Bike</td>\n",
       "      <td>1687</td>\n",
       "      <td>594</td>\n",
       "      <td>480</td>\n",
       "      <td>40.993804</td>\n",
       "    </tr>\n",
       "    <tr>\n",
       "      <th>496</th>\n",
       "      <td>2019-07-18</td>\n",
       "      <td>08:06:42</td>\n",
       "      <td>2019_07_18_08_06_42.json</td>\n",
       "      <td>0.0000</td>\n",
       "      <td>1937</td>\n",
       "      <td>87.630</td>\n",
       "      <td>0.0000</td>\n",
       "      <td>92.1838</td>\n",
       "      <td>131.0</td>\n",
       "      <td>0.0000</td>\n",
       "      <td>...</td>\n",
       "      <td>NaN</td>\n",
       "      <td>MF</td>\n",
       "      <td>NaN</td>\n",
       "      <td>1.0</td>\n",
       "      <td>NaN</td>\n",
       "      <td>Other</td>\n",
       "      <td>0</td>\n",
       "      <td>0</td>\n",
       "      <td>0</td>\n",
       "      <td>0.000000</td>\n",
       "    </tr>\n",
       "    <tr>\n",
       "      <th>497</th>\n",
       "      <td>2019-07-18</td>\n",
       "      <td>08:38:59</td>\n",
       "      <td>2019_07_18_08_38_59.json</td>\n",
       "      <td>0.0000</td>\n",
       "      <td>1996</td>\n",
       "      <td>87.630</td>\n",
       "      <td>0.0000</td>\n",
       "      <td>74.5794</td>\n",
       "      <td>93.0</td>\n",
       "      <td>0.0000</td>\n",
       "      <td>...</td>\n",
       "      <td>NaN</td>\n",
       "      <td>MF</td>\n",
       "      <td>NaN</td>\n",
       "      <td>1.0</td>\n",
       "      <td>NaN</td>\n",
       "      <td>Other</td>\n",
       "      <td>0</td>\n",
       "      <td>0</td>\n",
       "      <td>0</td>\n",
       "      <td>0.000000</td>\n",
       "    </tr>\n",
       "    <tr>\n",
       "      <th>...</th>\n",
       "      <td>...</td>\n",
       "      <td>...</td>\n",
       "      <td>...</td>\n",
       "      <td>...</td>\n",
       "      <td>...</td>\n",
       "      <td>...</td>\n",
       "      <td>...</td>\n",
       "      <td>...</td>\n",
       "      <td>...</td>\n",
       "      <td>...</td>\n",
       "      <td>...</td>\n",
       "      <td>...</td>\n",
       "      <td>...</td>\n",
       "      <td>...</td>\n",
       "      <td>...</td>\n",
       "      <td>...</td>\n",
       "      <td>...</td>\n",
       "      <td>...</td>\n",
       "      <td>...</td>\n",
       "      <td>...</td>\n",
       "      <td>...</td>\n",
       "    </tr>\n",
       "    <tr>\n",
       "      <th>1876</th>\n",
       "      <td>2023-01-27</td>\n",
       "      <td>16:56:28</td>\n",
       "      <td>2023_01_27_16_56_28.json</td>\n",
       "      <td>68.9178</td>\n",
       "      <td>5587</td>\n",
       "      <td>84.176</td>\n",
       "      <td>181.7810</td>\n",
       "      <td>118.2550</td>\n",
       "      <td>134.0</td>\n",
       "      <td>190.1410</td>\n",
       "      <td>...</td>\n",
       "      <td>NaN</td>\n",
       "      <td>AE</td>\n",
       "      <td>Easy</td>\n",
       "      <td>1.0</td>\n",
       "      <td>Canyon Ultimate</td>\n",
       "      <td>Bike</td>\n",
       "      <td>5320</td>\n",
       "      <td>216</td>\n",
       "      <td>51</td>\n",
       "      <td>55.560199</td>\n",
       "    </tr>\n",
       "    <tr>\n",
       "      <th>1877</th>\n",
       "      <td>2023-01-28</td>\n",
       "      <td>07:41:36</td>\n",
       "      <td>2023_01_28_07_41_36.json</td>\n",
       "      <td>59.6866</td>\n",
       "      <td>8224</td>\n",
       "      <td>85.808</td>\n",
       "      <td>156.9050</td>\n",
       "      <td>128.4070</td>\n",
       "      <td>177.0</td>\n",
       "      <td>231.4200</td>\n",
       "      <td>...</td>\n",
       "      <td>NaN</td>\n",
       "      <td>AE</td>\n",
       "      <td>Long</td>\n",
       "      <td>0.0</td>\n",
       "      <td>Canyon Ultimate</td>\n",
       "      <td>Bike</td>\n",
       "      <td>6389</td>\n",
       "      <td>622</td>\n",
       "      <td>1364</td>\n",
       "      <td>41.642619</td>\n",
       "    </tr>\n",
       "    <tr>\n",
       "      <th>1878</th>\n",
       "      <td>2023-01-28</td>\n",
       "      <td>10:12:44</td>\n",
       "      <td>2023_01_28_10_12_44.json</td>\n",
       "      <td>17.7570</td>\n",
       "      <td>151</td>\n",
       "      <td>85.808</td>\n",
       "      <td>62.5861</td>\n",
       "      <td>98.3700</td>\n",
       "      <td>115.0</td>\n",
       "      <td>92.9694</td>\n",
       "      <td>...</td>\n",
       "      <td>NaN</td>\n",
       "      <td>Rec</td>\n",
       "      <td>Coffee</td>\n",
       "      <td>0.0</td>\n",
       "      <td>Canyon Ultimate</td>\n",
       "      <td>Bike</td>\n",
       "      <td>6389</td>\n",
       "      <td>622</td>\n",
       "      <td>1364</td>\n",
       "      <td>25.157999</td>\n",
       "    </tr>\n",
       "    <tr>\n",
       "      <th>1879</th>\n",
       "      <td>2023-01-30</td>\n",
       "      <td>17:53:04</td>\n",
       "      <td>2023_01_30_17_53_04.json</td>\n",
       "      <td>71.7519</td>\n",
       "      <td>3624</td>\n",
       "      <td>84.141</td>\n",
       "      <td>190.3260</td>\n",
       "      <td>122.9250</td>\n",
       "      <td>167.0</td>\n",
       "      <td>232.7520</td>\n",
       "      <td>...</td>\n",
       "      <td>NaN</td>\n",
       "      <td>T</td>\n",
       "      <td>FTP</td>\n",
       "      <td>1.0</td>\n",
       "      <td>Canyon Ultimate</td>\n",
       "      <td>Bike</td>\n",
       "      <td>2749</td>\n",
       "      <td>90</td>\n",
       "      <td>785</td>\n",
       "      <td>54.918751</td>\n",
       "    </tr>\n",
       "    <tr>\n",
       "      <th>1880</th>\n",
       "      <td>2023-01-31</td>\n",
       "      <td>14:54:08</td>\n",
       "      <td>2023_01_31_14_54_08.json</td>\n",
       "      <td>78.0744</td>\n",
       "      <td>4454</td>\n",
       "      <td>83.645</td>\n",
       "      <td>206.4800</td>\n",
       "      <td>130.6190</td>\n",
       "      <td>173.0</td>\n",
       "      <td>255.1100</td>\n",
       "      <td>...</td>\n",
       "      <td>NaN</td>\n",
       "      <td>T</td>\n",
       "      <td>FTP</td>\n",
       "      <td>1.0</td>\n",
       "      <td>Canyon Ultimate</td>\n",
       "      <td>Bike</td>\n",
       "      <td>2804</td>\n",
       "      <td>38</td>\n",
       "      <td>1612</td>\n",
       "      <td>54.844670</td>\n",
       "    </tr>\n",
       "  </tbody>\n",
       "</table>\n",
       "<p>1388 rows × 34 columns</p>\n",
       "</div>"
      ],
      "text/plain": [
       "            date      time                  filename  Power_Index  Duration  \\\n",
       "493   2019-07-15  19:00:00  2019_07_15_19_00_00.json      59.5380      2015   \n",
       "494   2019-07-16  07:40:22  2019_07_16_07_40_22.json       0.0000      4623   \n",
       "495   2019-07-17  06:19:04  2019_07_17_06_19_04.json      64.6141      2761   \n",
       "496   2019-07-18  08:06:42  2019_07_18_08_06_42.json       0.0000      1937   \n",
       "497   2019-07-18  08:38:59  2019_07_18_08_38_59.json       0.0000      1996   \n",
       "...          ...       ...                       ...          ...       ...   \n",
       "1876  2023-01-27  16:56:28  2023_01_27_16_56_28.json      68.9178      5587   \n",
       "1877  2023-01-28  07:41:36  2023_01_28_07_41_36.json      59.6866      8224   \n",
       "1878  2023-01-28  10:12:44  2023_01_28_10_12_44.json      17.7570       151   \n",
       "1879  2023-01-30  17:53:04  2023_01_30_17_53_04.json      71.7519      3624   \n",
       "1880  2023-01-31  14:54:08  2023_01_31_14_54_08.json      78.0744      4454   \n",
       "\n",
       "      Athlete_Weight  Average_Power  Average_Heart_Rate  Max_Heartrate  \\\n",
       "493           87.320       159.9330            129.5160          170.0   \n",
       "494           87.320         0.0000            157.4370          171.0   \n",
       "495           87.630       172.2460            136.5370          174.0   \n",
       "496           87.630         0.0000             92.1838          131.0   \n",
       "497           87.630         0.0000             74.5794           93.0   \n",
       "...              ...            ...                 ...            ...   \n",
       "1876          84.176       181.7810            118.2550          134.0   \n",
       "1877          85.808       156.9050            128.4070          177.0   \n",
       "1878          85.808        62.5861             98.3700          115.0   \n",
       "1879          84.141       190.3260            122.9250          167.0   \n",
       "1880          83.645       206.4800            130.6190          173.0   \n",
       "\n",
       "      IsoPower  ...  Shoes  Workout_Code  Workout_Title  Indoor  \\\n",
       "493   196.2460  ...    NaN            AE           Easy     1.0   \n",
       "494     0.0000  ...    NaN            AE           Long     1.0   \n",
       "495   206.9030  ...    NaN             T            FTP     1.0   \n",
       "496     0.0000  ...    NaN            MF            NaN     1.0   \n",
       "497     0.0000  ...    NaN            MF            NaN     1.0   \n",
       "...        ...  ...    ...           ...            ...     ...   \n",
       "1876  190.1410  ...    NaN            AE           Easy     1.0   \n",
       "1877  231.4200  ...    NaN            AE           Long     0.0   \n",
       "1878   92.9694  ...    NaN           Rec         Coffee     0.0   \n",
       "1879  232.7520  ...    NaN             T            FTP     1.0   \n",
       "1880  255.1100  ...    NaN             T            FTP     1.0   \n",
       "\n",
       "                    Frame  Sport  TIZ1_3  TIZ2_3  TIZ3_3        VO2  \n",
       "493   Equinox Stages Bike   Bike    1552     223     240  41.194513  \n",
       "494                   NaN  Other       0       0       0   0.000000  \n",
       "495   Equinox Stages Bike   Bike    1687     594     480  40.993804  \n",
       "496                   NaN  Other       0       0       0   0.000000  \n",
       "497                   NaN  Other       0       0       0   0.000000  \n",
       "...                   ...    ...     ...     ...     ...        ...  \n",
       "1876      Canyon Ultimate   Bike    5320     216      51  55.560199  \n",
       "1877      Canyon Ultimate   Bike    6389     622    1364  41.642619  \n",
       "1878      Canyon Ultimate   Bike    6389     622    1364  25.157999  \n",
       "1879      Canyon Ultimate   Bike    2749      90     785  54.918751  \n",
       "1880      Canyon Ultimate   Bike    2804      38    1612  54.844670  \n",
       "\n",
       "[1388 rows x 34 columns]"
      ]
     },
     "execution_count": 4,
     "metadata": {},
     "output_type": "execute_result"
    }
   ],
   "source": [
    "pfx.derive_performance(loaded_df, performance_metric='VO2')"
   ]
  },
  {
   "cell_type": "code",
   "execution_count": null,
   "metadata": {},
   "outputs": [],
   "source": []
  },
  {
   "cell_type": "code",
   "execution_count": null,
   "metadata": {},
   "outputs": [],
   "source": []
  },
  {
   "attachments": {},
   "cell_type": "markdown",
   "metadata": {},
   "source": [
    "## Data Processing"
   ]
  },
  {
   "cell_type": "code",
   "execution_count": null,
   "metadata": {},
   "outputs": [],
   "source": [
    "data = data_original[data_original['Sport'] == 'Bike'].copy()\n",
    "data['mod_pow_at_threshold'] = data['a'] + data['b']*athlete_statics['threshold_hr'] +  data['c']*(60*60)*20\n",
    "\n",
    "data = data.groupby('date').agg({'L1_Time_in_Zone':'sum'\n",
    "                                ,'L2_Time_in_Zone':'sum'\n",
    "                                ,'L3_Time_in_Zone':'sum'\n",
    "                                ,'L4_Time_in_Zone':'sum'\n",
    "                                ,'L5_Time_in_Zone':'sum'\n",
    "                                ,'L6_Time_in_Zone':'sum'\n",
    "                                ,'L7_Time_in_Zone':'sum'\n",
    "                                ,'mod_pow_at_threshold':'max'}).reset_index()\n",
    "\n",
    "# data['date'] = data.index\n",
    "data['date'] = pd.to_datetime(data['date'])\n",
    "data = data.sort_values(by=['date'])\n",
    "data.index = pd.DatetimeIndex(data['date'])\n",
    "missing_dates = pd.date_range(start=data.index.min(), end=data.index.max())\n",
    "data = data.reindex(missing_dates, fill_value=0)\n",
    "data['mod_pow_at_threshold'] = data['mod_pow_at_threshold'].replace(0,np.nan)\n",
    "data['mod_pow_at_threshold'] = data['mod_pow_at_threshold'].fillna(method='ffill')\n",
    "data = data.dropna()"
   ]
  },
  {
   "cell_type": "code",
   "execution_count": null,
   "metadata": {},
   "outputs": [],
   "source": []
  },
  {
   "cell_type": "code",
   "execution_count": null,
   "metadata": {},
   "outputs": [],
   "source": []
  },
  {
   "attachments": {},
   "cell_type": "markdown",
   "metadata": {},
   "source": [
    "## Model"
   ]
  },
  {
   "cell_type": "code",
   "execution_count": 47,
   "metadata": {},
   "outputs": [],
   "source": [
    "import torch\n",
    "import torch.nn as nn\n",
    "import torch.nn.functional as F\n",
    "\n",
    "import numpy as np\n",
    "import matplotlib.pyplot as plt"
   ]
  },
  {
   "attachments": {},
   "cell_type": "markdown",
   "metadata": {},
   "source": [
    "## CNN"
   ]
  },
  {
   "cell_type": "code",
   "execution_count": 208,
   "metadata": {},
   "outputs": [],
   "source": [
    "class TimeSeriesCNN(nn.Module):\n",
    "    def __init__(self):\n",
    "        super(TimeSeriesCNN, self).__init__()\n",
    "        \n",
    "        # Define the layers of the CNN\n",
    "        self.conv1 = nn.Conv1d(in_channels=8, out_channels=32, kernel_size=3)\n",
    "        self.pool = nn.MaxPool1d(kernel_size=2)\n",
    "        self.conv2 = nn.Conv1d(in_channels=32, out_channels=64, kernel_size=3)\n",
    "        self.fc1 = nn.Linear(in_features=64*8, out_features=128)\n",
    "        self.fc2 = nn.Linear(in_features=128, out_features=2)\n",
    "\n",
    "    def forward(self, x):\n",
    "        # Pass the input through the layers of the CNN\n",
    "        x = self.conv1(x)\n",
    "        x = nn.functional.relu(x)\n",
    "        x = self.pool(x)\n",
    "        x = self.conv2(x)\n",
    "        x = nn.functional.relu(x)\n",
    "        x = self.pool(x)\n",
    "        x = x.view(-1, 64*8)\n",
    "        x = self.fc1(x)\n",
    "        x = nn.functional.relu(x)\n",
    "        x = self.fc2(x)\n",
    "        return x"
   ]
  },
  {
   "cell_type": "code",
   "execution_count": 209,
   "metadata": {},
   "outputs": [],
   "source": [
    "sl_df = loaded_df[loaded_df['Sport'].isin(['Bike','Run'])][['date','Sport','TIZ1_3','TIZ2_3','TIZ3_3','VO2']].groupby(['date','Sport']).agg({'TIZ1_3':'sum','TIZ2_3':'sum','TIZ3_3':'sum','VO2':'max'})\n",
    "ul_df = sl_df.unstack(level=1).copy()\n",
    "ul_df.fillna({'TIZ1_3':0\n",
    "             ,'TIZ2_3':0\n",
    "             ,'TIZ3_3':0\n",
    "            }).fillna(method='ffill', limit=5, inplace=True)"
   ]
  },
  {
   "cell_type": "code",
   "execution_count": 210,
   "metadata": {},
   "outputs": [
    {
     "data": {
      "image/png": "[encoded data removed]",
      "text/plain": [
       "<Figure size 400x400 with 1 Axes>"
      ]
     },
     "metadata": {},
     "output_type": "display_data"
    }
   ],
   "source": [
    "comp_vo2 = ul_df[ul_df['VO2'].isnull().sum(axis=1) < 1]['VO2']\n",
    "bike_to_run = (comp_vo2['Bike'] / comp_vo2['Run']).mean()\n",
    "comp_vo2['Run from bike'] = comp_vo2['Bike'] * 1/bike_to_run\n",
    "ax = comp_vo2.plot(kind='scatter', x = 'Run', y='Run from bike', xlim=(50,75), ylim=(50,75), figsize=(4,4))\n",
    "sing_vo2 = ul_df[ul_df['VO2'].isnull().sum(axis=1) < 2]['VO2']\n",
    "ul_df[('VO2','Run')].fillna(ul_df[('VO2','Bike')] * 1/bike_to_run, inplace=True)\n",
    "ul_df[('VO2','Bike')].fillna(ul_df[('VO2','Run')] * bike_to_run, inplace=True)"
   ]
  },
  {
   "cell_type": "code",
   "execution_count": 211,
   "metadata": {},
   "outputs": [],
   "source": [
    "fl_df = ul_df[['TIZ1_3','TIZ2_3','TIZ3_3']]\n",
    "fl_df = fl_df.join(ul_df[['VO2']])\n",
    "fl_df[[('VO2_l1','Bike'),('VO2_l1','Run')]] = fl_df['VO2'].shift(-1)"
   ]
  },
  {
   "cell_type": "code",
   "execution_count": 212,
   "metadata": {},
   "outputs": [],
   "source": [
    "input_data = fl_df[['TIZ1_3','TIZ2_3','TIZ3_3','VO2_l1']].to_numpy()[:-1]\n",
    "target_data = fl_df['VO2'][:-1].to_numpy()"
   ]
  },
  {
   "cell_type": "code",
   "execution_count": 213,
   "metadata": {},
   "outputs": [],
   "source": [
    "test_percent = 0.8\n",
    "test_split = int(input_data.shape[0] * test_percent)\n",
    "train_input_data, train_target_data = input_data[:test_split], target_data[:test_split]\n",
    "test_input_data, test_target_data = input_data[test_split:], target_data[test_split:]"
   ]
  },
  {
   "cell_type": "code",
   "execution_count": 217,
   "metadata": {},
   "outputs": [
    {
     "data": {
      "text/plain": [
       "(601, 8)"
      ]
     },
     "execution_count": 217,
     "metadata": {},
     "output_type": "execute_result"
    }
   ],
   "source": [
    "train_input_data.shape"
   ]
  },
  {
   "cell_type": "code",
   "execution_count": 214,
   "metadata": {},
   "outputs": [
    {
     "data": {
      "text/plain": [
       "(8, 32)"
      ]
     },
     "execution_count": 214,
     "metadata": {},
     "output_type": "execute_result"
    }
   ],
   "source": [
    "train_input_data[:32].T.shape"
   ]
  },
  {
   "cell_type": "code",
   "execution_count": 215,
   "metadata": {},
   "outputs": [
    {
     "ename": "RuntimeError",
     "evalue": "shape '[-1, 512]' is invalid for input of size 384",
     "output_type": "error",
     "traceback": [
      "\u001b[0;31m---------------------------------------------------------------------------\u001b[0m",
      "\u001b[0;31mRuntimeError\u001b[0m                              Traceback (most recent call last)",
      "Cell \u001b[0;32mIn [215], line 13\u001b[0m\n\u001b[1;32m     11\u001b[0m inputs \u001b[39m=\u001b[39m torch\u001b[39m.\u001b[39mfrom_numpy(train_input_data[:\u001b[39m32\u001b[39m]\u001b[39m.\u001b[39mT)\u001b[39m.\u001b[39mfloat()\n\u001b[1;32m     12\u001b[0m targets \u001b[39m=\u001b[39m torch\u001b[39m.\u001b[39mfrom_numpy(train_target_data)\u001b[39m.\u001b[39mfloat()\n\u001b[0;32m---> 13\u001b[0m outputs \u001b[39m=\u001b[39m model(inputs)\n\u001b[1;32m     14\u001b[0m loss \u001b[39m=\u001b[39m criterion(outputs, targets)\n\u001b[1;32m     15\u001b[0m loss\u001b[39m.\u001b[39mbackward()\n",
      "File \u001b[0;32m~/opt/anaconda3/envs/analytics_310/lib/python3.10/site-packages/torch/nn/modules/module.py:1190\u001b[0m, in \u001b[0;36mModule._call_impl\u001b[0;34m(self, *input, **kwargs)\u001b[0m\n\u001b[1;32m   1186\u001b[0m \u001b[39m# If we don't have any hooks, we want to skip the rest of the logic in\u001b[39;00m\n\u001b[1;32m   1187\u001b[0m \u001b[39m# this function, and just call forward.\u001b[39;00m\n\u001b[1;32m   1188\u001b[0m \u001b[39mif\u001b[39;00m \u001b[39mnot\u001b[39;00m (\u001b[39mself\u001b[39m\u001b[39m.\u001b[39m_backward_hooks \u001b[39mor\u001b[39;00m \u001b[39mself\u001b[39m\u001b[39m.\u001b[39m_forward_hooks \u001b[39mor\u001b[39;00m \u001b[39mself\u001b[39m\u001b[39m.\u001b[39m_forward_pre_hooks \u001b[39mor\u001b[39;00m _global_backward_hooks\n\u001b[1;32m   1189\u001b[0m         \u001b[39mor\u001b[39;00m _global_forward_hooks \u001b[39mor\u001b[39;00m _global_forward_pre_hooks):\n\u001b[0;32m-> 1190\u001b[0m     \u001b[39mreturn\u001b[39;00m forward_call(\u001b[39m*\u001b[39;49m\u001b[39minput\u001b[39;49m, \u001b[39m*\u001b[39;49m\u001b[39m*\u001b[39;49mkwargs)\n\u001b[1;32m   1191\u001b[0m \u001b[39m# Do not call functions when jit is used\u001b[39;00m\n\u001b[1;32m   1192\u001b[0m full_backward_hooks, non_full_backward_hooks \u001b[39m=\u001b[39m [], []\n",
      "Cell \u001b[0;32mIn [208], line 20\u001b[0m, in \u001b[0;36mTimeSeriesCNN.forward\u001b[0;34m(self, x)\u001b[0m\n\u001b[1;32m     18\u001b[0m x \u001b[39m=\u001b[39m nn\u001b[39m.\u001b[39mfunctional\u001b[39m.\u001b[39mrelu(x)\n\u001b[1;32m     19\u001b[0m x \u001b[39m=\u001b[39m \u001b[39mself\u001b[39m\u001b[39m.\u001b[39mpool(x)\n\u001b[0;32m---> 20\u001b[0m x \u001b[39m=\u001b[39m x\u001b[39m.\u001b[39;49mview(\u001b[39m-\u001b[39;49m\u001b[39m1\u001b[39;49m, \u001b[39m64\u001b[39;49m\u001b[39m*\u001b[39;49m\u001b[39m8\u001b[39;49m)\n\u001b[1;32m     21\u001b[0m x \u001b[39m=\u001b[39m \u001b[39mself\u001b[39m\u001b[39m.\u001b[39mfc1(x)\n\u001b[1;32m     22\u001b[0m x \u001b[39m=\u001b[39m nn\u001b[39m.\u001b[39mfunctional\u001b[39m.\u001b[39mrelu(x)\n",
      "\u001b[0;31mRuntimeError\u001b[0m: shape '[-1, 512]' is invalid for input of size 384"
     ]
    }
   ],
   "source": [
    "model = TimeSeriesCNN()\n",
    "\n",
    "criterion = nn.MSELoss()\n",
    "optimizer = torch.optim.Adam(model.parameters(), lr=0.001)\n",
    "\n",
    "# Train the model\n",
    "num_epochs = 100\n",
    "for epoch in range(num_epochs):\n",
    "    model.train()\n",
    "    optimizer.zero_grad()\n",
    "    inputs = torch.from_numpy(train_input_data[:32].T).float()\n",
    "    targets = torch.from_numpy(train_target_data).float()\n",
    "    outputs = model(inputs)\n",
    "    loss = criterion(outputs, targets)\n",
    "    loss.backward()\n",
    "    optimizer.step()\n",
    "\n",
    "    # Evaluate the model on the test set\n",
    "    if epoch % 10 == 0:\n",
    "        model.eval()\n",
    "        with torch.no_grad():\n",
    "            inputs = torch.from_numpy(test_data).float()\n",
    "            targets = torch.from_numpy(test_labels).float()\n",
    "            outputs = model(inputs)\n",
    "            test_loss = criterion(outputs, targets)\n",
    "            print(f\"Epoch {epoch}: Test loss = {test_loss.item()}\")"
   ]
  },
  {
   "cell_type": "code",
   "execution_count": 97,
   "metadata": {},
   "outputs": [
    {
     "ename": "NameError",
     "evalue": "name 'data' is not defined",
     "output_type": "error",
     "traceback": [
      "\u001b[0;31m---------------------------------------------------------------------------\u001b[0m",
      "\u001b[0;31mNameError\u001b[0m                                 Traceback (most recent call last)",
      "Cell \u001b[0;32mIn [97], line 5\u001b[0m\n\u001b[1;32m      2\u001b[0m labels \u001b[39m=\u001b[39m np\u001b[39m.\u001b[39mrandom\u001b[39m.\u001b[39mrand(\u001b[39m1000\u001b[39m, \u001b[39m1\u001b[39m)\n\u001b[1;32m      4\u001b[0m \u001b[39m# Split the data into training and test sets\u001b[39;00m\n\u001b[0;32m----> 5\u001b[0m train_data, train_labels \u001b[39m=\u001b[39m data[:\u001b[39m800\u001b[39m], labels[:\u001b[39m800\u001b[39m]\n\u001b[1;32m      6\u001b[0m test_data, test_labels \u001b[39m=\u001b[39m data[\u001b[39m800\u001b[39m:], labels[\u001b[39m800\u001b[39m:]\n",
      "\u001b[0;31mNameError\u001b[0m: name 'data' is not defined"
     ]
    }
   ],
   "source": [
    "def generator(data, min_index=0, max_index=None, batch_size=16, n_steps=150, step_length=1000):\n",
    "    if max_index is None:\n",
    "        max_index = len(data) - 1\n",
    "     \n",
    "    while True:\n",
    "        # Pick indices of ending positions\n",
    "        rows = np.random.randint(min_index + n_steps * step_length, max_index, size=batch_size)\n",
    "         \n",
    "        # Initialize feature matrices and targets\n",
    "        samples = np.zeros((batch_size, n_steps, n_features))\n",
    "        targets = np.zeros(batch_size, )\n",
    "        \n",
    "        for j, row in enumerate(rows):\n",
    "            samples[j] = create_X(data[:, 0], last_index=row, n_steps=n_steps, step_length=step_length)\n",
    "            targets[j] = data[row - 1, 1]\n",
    "        yield samples, targets"
   ]
  },
  {
   "cell_type": "code",
   "execution_count": null,
   "metadata": {},
   "outputs": [],
   "source": []
  },
  {
   "attachments": {},
   "cell_type": "markdown",
   "metadata": {},
   "source": [
    "## RNN"
   ]
  },
  {
   "cell_type": "code",
   "execution_count": 6,
   "metadata": {},
   "outputs": [],
   "source": [
    "class RNN(nn.Module):\n",
    "    def __init__(self, input_size, hidden_size, output_size):\n",
    "        super(RNN, self).__init__()\n",
    "        self.hidden_size = hidden_size\n",
    "        self.rnn = nn.RNN(input_size, hidden_size, batch_first=True)\n",
    "        self.fc = nn.Linear(hidden_size, output_size)\n",
    "\n",
    "    def forward(self, x):\n",
    "        batch_size = x.size(0)\n",
    "        h0 = torch.zeros(1, batch_size, self.hidden_size).to(x.device)\n",
    "        out, _ = self.rnn(x, h0)\n",
    "        out = self.fc(out[:, -1, :])\n",
    "        return out\n"
   ]
  },
  {
   "cell_type": "code",
   "execution_count": null,
   "metadata": {},
   "outputs": [],
   "source": [
    "# Shaping of input data\n",
    "data = np.random.rand(1000, 50, 10)\n",
    "labels = np.random.rand(1000, 1)\n",
    "input_data = np.random.rand(1000, 50, 10)\n",
    "labels = np.random.rand(1000, 1)\n",
    "\n",
    "# Split the data into training and test sets\n",
    "train_data, train_labels = data[:800], labels[:800]\n",
    "test_data, test_labels = data[800:], labels[800:]\n",
    "\n",
    "# Initialize the model\n",
    "input_size = 10\n",
    "hidden_size = 64\n",
    "output_size = 1\n",
    "model = RNN(input_size, hidden_size, output_size)\n",
    "\n",
    "# Define the loss function and optimizer\n",
    "criterion = nn.MSELoss()\n",
    "optimizer = torch.optim.Adam(model.parameters(), lr=0.001)\n",
    "\n",
    "# Train the model\n",
    "num_epochs = 100\n",
    "for epoch in range(num_epochs):\n",
    "    model.train()\n",
    "    optimizer.zero_grad()\n",
    "    inputs = torch.from_numpy(train_data).float()\n",
    "    targets = torch.from_numpy(train_labels).float()\n",
    "    outputs = model(inputs)\n",
    "    loss = criterion(outputs, targets)\n",
    "    loss.backward()\n",
    "    optimizer.step()\n",
    "\n",
    "    # Evaluate the model on the test set\n",
    "    if epoch % 10 == 0:\n",
    "        model.eval()\n",
    "        with torch.no_grad():\n",
    "            inputs = torch.from_numpy(test_data).float()\n",
    "            targets = torch.from_numpy(test_labels).float()\n",
    "            outputs = model(inputs)\n",
    "            test_loss = criterion(outputs, targets)\n",
    "            print(f\"Epoch {epoch}: Test loss = {test_loss.item()}\")"
   ]
  }
 ],
 "metadata": {
  "kernelspec": {
   "display_name": "analytics_310",
   "language": "python",
   "name": "python3"
  },
  "language_info": {
   "codemirror_mode": {
    "name": "ipython",
    "version": 3
   },
   "file_extension": ".py",
   "mimetype": "text/x-python",
   "name": "python",
   "nbconvert_exporter": "python",
   "pygments_lexer": "ipython3",
   "version": "3.10.4"
  },
  "vscode": {
   "interpreter": {
    "hash": "e177e99c25e24d2ba440fb935951fdd116b2327d6989f447951d54cb857908f8"
   }
  }
 },
 "nbformat": 4,
 "nbformat_minor": 2
}
