{
 "cells": [
  {
   "cell_type": "code",
   "execution_count": null,
   "metadata": {},
   "outputs": [],
   "source": [
    "import build_dataset"
   ]
  },
  {
   "cell_type": "code",
   "execution_count": null,
   "metadata": {},
   "outputs": [],
   "source": [
    "import torch\n",
    "import torch.nn as nn\n",
    "import torch.nn.functional as F"
   ]
  },
  {
   "attachments": {},
   "cell_type": "markdown",
   "metadata": {},
   "source": [
    "## Data Processing"
   ]
  },
  {
   "cell_type": "code",
   "execution_count": null,
   "metadata": {},
   "outputs": [],
   "source": [
    "data = data_original[data_original['Sport'] == 'Bike'].copy()\n",
    "data['mod_pow_at_threshold'] = data['a'] + data['b']*athlete_statics['threshold_hr'] +  data['c']*(60*60)*20\n",
    "\n",
    "data = data.groupby('date').agg({'L1_Time_in_Zone':'sum'\n",
    "                                ,'L2_Time_in_Zone':'sum'\n",
    "                                ,'L3_Time_in_Zone':'sum'\n",
    "                                ,'L4_Time_in_Zone':'sum'\n",
    "                                ,'L5_Time_in_Zone':'sum'\n",
    "                                ,'L6_Time_in_Zone':'sum'\n",
    "                                ,'L7_Time_in_Zone':'sum'\n",
    "                                ,'mod_pow_at_threshold':'max'}).reset_index()\n",
    "\n",
    "# data['date'] = data.index\n",
    "data['date'] = pd.to_datetime(data['date'])\n",
    "data = data.sort_values(by=['date'])\n",
    "data.index = pd.DatetimeIndex(data['date'])\n",
    "missing_dates = pd.date_range(start=data.index.min(), end=data.index.max())\n",
    "data = data.reindex(missing_dates, fill_value=0)\n",
    "data['mod_pow_at_threshold'] = data['mod_pow_at_threshold'].replace(0,np.nan)\n",
    "data['mod_pow_at_threshold'] = data['mod_pow_at_threshold'].fillna(method='ffill')\n",
    "data = data.dropna()"
   ]
  }
 ],
 "metadata": {
  "kernelspec": {
   "display_name": "Python 3",
   "language": "python",
   "name": "python3"
  },
  "language_info": {
   "name": "python",
   "version": "3.9.13 (tags/v3.9.13:6de2ca5, May 17 2022, 16:36:42) [MSC v.1929 64 bit (AMD64)]"
  },
  "vscode": {
   "interpreter": {
    "hash": "786d347783ef61a22e711d613621ccd6d628c0aed896bdd427ccc0f1fe525ed4"
   }
  }
 },
 "nbformat": 4,
 "nbformat_minor": 2
}
