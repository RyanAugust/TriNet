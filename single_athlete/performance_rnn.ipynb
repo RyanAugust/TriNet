{
 "cells": [
  {
   "cell_type": "code",
   "execution_count": 1,
   "metadata": {},
   "outputs": [
    {
     "name": "stdout",
     "output_type": "stream",
     "text": [
      "Local dataset available. process using `dataset_preprocess`\n"
     ]
    },
    {
     "data": {
      "text/plain": [
       "{'Daily_TSS': <bound method load_functions.daily_tss of <build_dataset.load_functions object at 0x7fa124414dc0>>,\n",
       " 'TIZ2_5': <bound method load_functions.tiz2of5 of <build_dataset.load_functions object at 0x7fa124414dc0>>,\n",
       " 'TIZ1_3': <bound method load_functions.tiz1of3 of <build_dataset.load_functions object at 0x7fa124414dc0>>,\n",
       " 'TIZ3_3': <bound method load_functions.tiz3of3 of <build_dataset.load_functions object at 0x7fa124414dc0>>}"
      ]
     },
     "execution_count": 1,
     "metadata": {},
     "output_type": "execute_result"
    }
   ],
   "source": [
    "import build_dataset\n",
    "\n",
    "lfx = build_dataset.load_functions()\n",
    "pfx = build_dataset.performance_functions()\n",
    "\n",
    "pp = build_dataset.dataset_preprocess(local_activity_store='gc_activitydata_local.csv'\n",
    "                                    ,local_activity_model_params='modeled_ef.csv')\n",
    "lfx.metric_function_map"
   ]
  },
  {
   "cell_type": "code",
   "execution_count": 2,
   "metadata": {},
   "outputs": [],
   "source": [
    "loaded_df = lfx.derive_load(frame=pp.activity_data, load_metric='TIZ1_3')\n",
    "loaded_df = loaded_df[loaded_df['TIZ1_3'].cumsum() > 0].copy()"
   ]
  },
  {
   "cell_type": "code",
   "execution_count": 5,
   "metadata": {},
   "outputs": [
    {
     "ename": "NameError",
     "evalue": "name 'athlete_statics' is not defined",
     "output_type": "error",
     "traceback": [
      "\u001b[0;31m---------------------------------------------------------------------------\u001b[0m",
      "\u001b[0;31mNameError\u001b[0m                                 Traceback (most recent call last)",
      "Cell \u001b[0;32mIn [5], line 1\u001b[0m\n\u001b[0;32m----> 1\u001b[0m pfx\u001b[39m.\u001b[39;49mderive_performanc(loaded_df, performance_metric\u001b[39m=\u001b[39;49m\u001b[39m'\u001b[39;49m\u001b[39mVO2\u001b[39;49m\u001b[39m'\u001b[39;49m)\n",
      "File \u001b[0;32m~/git/athletics/TriNet/single_athlete/build_dataset.py:245\u001b[0m, in \u001b[0;36mderive_performanc\u001b[0;34m(self, frame, performance_metric)\u001b[0m\n\u001b[1;32m    243\u001b[0m \u001b[39mdef\u001b[39;00m \u001b[39mderive_performance\u001b[39m(\u001b[39mself\u001b[39m, frame: pd\u001b[39m.\u001b[39mDataFrame, performance_metric: \u001b[39mstr\u001b[39m) \u001b[39m-\u001b[39m\u001b[39m>\u001b[39m pd\u001b[39m.\u001b[39mDataFrame:\n\u001b[1;32m    244\u001b[0m     performance_function \u001b[39m=\u001b[39m \u001b[39mself\u001b[39m\u001b[39m.\u001b[39mmetric_function_map[performance_metric]\n\u001b[0;32m--> 245\u001b[0m     frame[performance_metric] \u001b[39m=\u001b[39m performance_function(frame)\n\u001b[1;32m    246\u001b[0m     \u001b[39mreturn\u001b[39;00m frame\n",
      "File \u001b[0;32m~/git/athletics/TriNet/single_athlete/build_dataset.py:259\u001b[0m, in \u001b[0;36mperformance_functions.calc_vo2\u001b[0;34m(self, frame)\u001b[0m\n\u001b[1;32m    258\u001b[0m \u001b[39mdef\u001b[39;00m \u001b[39mcalc_vo2\u001b[39m(\u001b[39mself\u001b[39m, frame):\n\u001b[0;32m--> 259\u001b[0m     percent_vo2 \u001b[39m=\u001b[39m (frame[\u001b[39m'\u001b[39m\u001b[39mAverage_Heart_Rate\u001b[39m\u001b[39m'\u001b[39m] \u001b[39m-\u001b[39m athlete_statics[\u001b[39m\"\u001b[39m\u001b[39mresting_hr\u001b[39m\u001b[39m\"\u001b[39m])\u001b[39m/\u001b[39m(athlete_statics[\u001b[39m\"\u001b[39m\u001b[39mmax_hr\u001b[39m\u001b[39m\"\u001b[39m] \u001b[39m-\u001b[39m athlete_statics[\u001b[39m\"\u001b[39m\u001b[39mresting_hr\u001b[39m\u001b[39m\"\u001b[39m])\n\u001b[1;32m    260\u001b[0m     bike_vo2_estimated \u001b[39m=\u001b[39m (((frame[\u001b[39m'\u001b[39m\u001b[39mAverage_Power\u001b[39m\u001b[39m'\u001b[39m]\u001b[39m/\u001b[39m\u001b[39m75\u001b[39m)\u001b[39m*\u001b[39m\u001b[39m1000\u001b[39m)\u001b[39m/\u001b[39mframe[\u001b[39m'\u001b[39m\u001b[39mAthlete_Weight\u001b[39m\u001b[39m'\u001b[39m]) \u001b[39m/\u001b[39m percent_vo2\n\u001b[1;32m    261\u001b[0m     run_vo2_estimated \u001b[39m=\u001b[39m (\u001b[39m210\u001b[39m\u001b[39m/\u001b[39mframe[\u001b[39m'\u001b[39m\u001b[39mxPace\u001b[39m\u001b[39m'\u001b[39m]) \u001b[39m/\u001b[39m percent_vo2\n",
      "\u001b[0;31mNameError\u001b[0m: name 'athlete_statics' is not defined"
     ]
    }
   ],
   "source": [
    "pfx.derive_performance(loaded_df, performance_metric='VO2')"
   ]
  },
  {
   "cell_type": "code",
   "execution_count": null,
   "metadata": {},
   "outputs": [],
   "source": [
    "import torch\n",
    "import torch.nn as nn\n",
    "import torch.nn.functional as F"
   ]
  },
  {
   "attachments": {},
   "cell_type": "markdown",
   "metadata": {},
   "source": [
    "## Data Processing"
   ]
  },
  {
   "cell_type": "code",
   "execution_count": null,
   "metadata": {},
   "outputs": [],
   "source": []
  },
  {
   "cell_type": "code",
   "execution_count": null,
   "metadata": {},
   "outputs": [],
   "source": [
    "data = data_original[data_original['Sport'] == 'Bike'].copy()\n",
    "data['mod_pow_at_threshold'] = data['a'] + data['b']*athlete_statics['threshold_hr'] +  data['c']*(60*60)*20\n",
    "\n",
    "data = data.groupby('date').agg({'L1_Time_in_Zone':'sum'\n",
    "                                ,'L2_Time_in_Zone':'sum'\n",
    "                                ,'L3_Time_in_Zone':'sum'\n",
    "                                ,'L4_Time_in_Zone':'sum'\n",
    "                                ,'L5_Time_in_Zone':'sum'\n",
    "                                ,'L6_Time_in_Zone':'sum'\n",
    "                                ,'L7_Time_in_Zone':'sum'\n",
    "                                ,'mod_pow_at_threshold':'max'}).reset_index()\n",
    "\n",
    "# data['date'] = data.index\n",
    "data['date'] = pd.to_datetime(data['date'])\n",
    "data = data.sort_values(by=['date'])\n",
    "data.index = pd.DatetimeIndex(data['date'])\n",
    "missing_dates = pd.date_range(start=data.index.min(), end=data.index.max())\n",
    "data = data.reindex(missing_dates, fill_value=0)\n",
    "data['mod_pow_at_threshold'] = data['mod_pow_at_threshold'].replace(0,np.nan)\n",
    "data['mod_pow_at_threshold'] = data['mod_pow_at_threshold'].fillna(method='ffill')\n",
    "data = data.dropna()"
   ]
  }
 ],
 "metadata": {
  "kernelspec": {
   "display_name": "analytics_310",
   "language": "python",
   "name": "python3"
  },
  "language_info": {
   "codemirror_mode": {
    "name": "ipython",
    "version": 3
   },
   "file_extension": ".py",
   "mimetype": "text/x-python",
   "name": "python",
   "nbconvert_exporter": "python",
   "pygments_lexer": "ipython3",
   "version": "3.10.4"
  },
  "vscode": {
   "interpreter": {
    "hash": "e177e99c25e24d2ba440fb935951fdd116b2327d6989f447951d54cb857908f8"
   }
  }
 },
 "nbformat": 4,
 "nbformat_minor": 2
}
