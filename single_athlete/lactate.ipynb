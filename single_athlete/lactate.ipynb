{
 "cells": [
  {
   "cell_type": "code",
   "execution_count": null,
   "metadata": {},
   "outputs": [],
   "source": [
    "from scipy import optimize\n",
    "import numpy as np\n",
    "\n",
    "import matplotlib.pyplot as plt\n",
    "%matplotlib inline"
   ]
  },
  {
   "cell_type": "code",
   "execution_count": null,
   "metadata": {},
   "outputs": [],
   "source": [
    "lactate_vector = np.array([\n",
    "    1.1,\n",
    " 0.6, 0.6, 0.6, 1.0, 1.1, 1.7, 2.2, 4.6, 7.1])\n",
    "objective_vector = np.array([\n",
    "    8, \n",
    "7.7, 8.31, 9.45, 10.5, 11.83, 13.1, 14.35, 15.45, 16.75])\n",
    "\n",
    "x = np.log10(objective_vector)\n",
    "y = np.log10(lactate_vector)"
   ]
  },
  {
   "cell_type": "code",
   "execution_count": null,
   "metadata": {},
   "outputs": [],
   "source": [
    "((.9,1.03),(-.25,.25),(0,3),(1,10))\n",
    "bounds = ((0.90,-0.25, 0.00, 1.00),\n",
    "          (1.10, 0.25, 3.00, 10.0))"
   ]
  },
  {
   "cell_type": "code",
   "execution_count": null,
   "metadata": {},
   "outputs": [],
   "source": [
    "def piecewise_linear(x, x0, y0, k1, k2):\n",
    "    return np.piecewise(x, [x < x0], [lambda x:k1*x + y0-k1*x0, lambda x:k2*x + y0-k2*x0])\n",
    "\n",
    "p , e = optimize.curve_fit(piecewise_linear, x, y, bounds=bounds)\n",
    "xd = np.linspace(x.min()*.9, x.max()*1.1, 100)\n",
    "plt.plot(x[1:], y[1:], \"o\")\n",
    "plt.plot(xd, piecewise_linear(xd, *p))\n",
    "print(p)\n",
    "print(10**p[0])"
   ]
  },
  {
   "cell_type": "code",
   "execution_count": null,
   "metadata": {},
   "outputs": [],
   "source": []
  },
  {
   "cell_type": "code",
   "execution_count": null,
   "metadata": {},
   "outputs": [],
   "source": [
    "x = np.log10(objective_vector)\n",
    "y = np.log10(lactate_vector)\n",
    "reg = loglog_reg()\n",
    "\n",
    "\n",
    "def optimize_reg(params):\n",
    "    losses = []\n",
    "\n",
    "    pred_lactate = reg.fit(x, params=params)\n",
    "    \n",
    "    losses = (y - pred_lactate)\n",
    "    RMSE = np.sqrt((losses**2).sum()/len(pred_lactate-1))\n",
    "    return RMSE\n",
    "\n",
    "initial_guess  = [1, 0, 0, 3, -20]\n",
    "loglogfit = optimize.minimize(\n",
    "    optimize_reg\n",
    "    ,x0=initial_guess\n",
    "        #    breakpoint,slope1, intercept1, slope2, intercept2\n",
    "    ,bounds=[(.9,1.1),    (-.25,1),  (-2,2),     (0,8),  (-100,0)]\n",
    "    ,method='Nelder-Mead'\n",
    "    ,options={'ftol':1e-6 , 'gtol':1e-6}\n",
    "    )\n",
    "print(loglogfit)\n",
    "for val in loglogfit['x']:\n",
    "    print(val)"
   ]
  },
  {
   "cell_type": "code",
   "execution_count": null,
   "metadata": {},
   "outputs": [],
   "source": [
    "params = loglogfit['x']\n",
    "\n",
    "fig, ax = plt.subplots(1,1,figsize=(8,6))\n",
    "ax.scatter(x,y)\n",
    "x0 = np.linspace(x.min(),params[0],3)\n",
    "y0 = params[1] * x0 + params[2]\n",
    "x1 = np.linspace(params[0],x.max(),3)\n",
    "y1 = params[3] * x1 + params[4]\n",
    "ax.plot(x0,y0)\n",
    "ax.plot(x1,y1)"
   ]
  },
  {
   "cell_type": "code",
   "execution_count": null,
   "metadata": {},
   "outputs": [],
   "source": [
    "loglogfit['x']"
   ]
  },
  {
   "cell_type": "code",
   "execution_count": null,
   "metadata": {},
   "outputs": [],
   "source": []
  }
 ],
 "metadata": {
  "kernelspec": {
   "display_name": "analysis_310",
   "language": "python",
   "name": "python3"
  },
  "language_info": {
   "codemirror_mode": {
    "name": "ipython",
    "version": 3
   },
   "file_extension": ".py",
   "mimetype": "text/x-python",
   "name": "python",
   "nbconvert_exporter": "python",
   "pygments_lexer": "ipython3",
   "version": "3.10.4"
  }
 },
 "nbformat": 4,
 "nbformat_minor": 2
}
